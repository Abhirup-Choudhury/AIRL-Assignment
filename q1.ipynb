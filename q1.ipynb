{
 "cells": [
  {
   "cell_type": "code",
   "execution_count": 1,
   "id": "ae4d16a0",
   "metadata": {
    "execution": {
     "iopub.execute_input": "2025-10-04T13:53:40.220005Z",
     "iopub.status.busy": "2025-10-04T13:53:40.219776Z",
     "iopub.status.idle": "2025-10-04T13:53:49.117133Z",
     "shell.execute_reply": "2025-10-04T13:53:49.116522Z"
    },
    "papermill": {
     "duration": 8.903577,
     "end_time": "2025-10-04T13:53:49.118499",
     "exception": false,
     "start_time": "2025-10-04T13:53:40.214922",
     "status": "completed"
    },
    "tags": []
   },
   "outputs": [],
   "source": [
    "import torch\n",
    "from torch import nn\n",
    "import torchvision\n",
    "import torchvision.transforms.v2 as transforms\n",
    "from torch.utils.data import DataLoader\n",
    "import torch.nn.functional as F\n",
    "import warnings\n",
    "import os\n",
    "import csv\n",
    "cwd = os.getcwd()\n",
    "warnings.filterwarnings('ignore')\n",
    "from tqdm import tqdm\n",
    "from datetime import datetime\n",
    "from zoneinfo import ZoneInfo\n",
    "from einops import rearrange, repeat\n",
    "from einops.layers.torch import Rearrange"
   ]
  },
  {
   "cell_type": "code",
   "execution_count": 2,
   "id": "abc9cde6",
   "metadata": {
    "execution": {
     "iopub.execute_input": "2025-10-04T13:53:49.126362Z",
     "iopub.status.busy": "2025-10-04T13:53:49.126075Z",
     "iopub.status.idle": "2025-10-04T13:53:49.129434Z",
     "shell.execute_reply": "2025-10-04T13:53:49.128948Z"
    },
    "papermill": {
     "duration": 0.008259,
     "end_time": "2025-10-04T13:53:49.130489",
     "exception": false,
     "start_time": "2025-10-04T13:53:49.122230",
     "status": "completed"
    },
    "tags": []
   },
   "outputs": [],
   "source": [
    "from torch.optim.lr_scheduler import LinearLR, CosineAnnealingLR, SequentialLR\n",
    "from torch.optim import Adam,SGD,AdamW\n",
    "import matplotlib.pyplot as plt"
   ]
  },
  {
   "cell_type": "code",
   "execution_count": 3,
   "id": "d4be750c",
   "metadata": {
    "execution": {
     "iopub.execute_input": "2025-10-04T13:53:49.137455Z",
     "iopub.status.busy": "2025-10-04T13:53:49.137258Z",
     "iopub.status.idle": "2025-10-04T13:53:49.140528Z",
     "shell.execute_reply": "2025-10-04T13:53:49.140069Z"
    },
    "papermill": {
     "duration": 0.007788,
     "end_time": "2025-10-04T13:53:49.141496",
     "exception": false,
     "start_time": "2025-10-04T13:53:49.133708",
     "status": "completed"
    },
    "tags": []
   },
   "outputs": [],
   "source": [
    "def get_timestamp():\n",
    "    try:\n",
    "        now = datetime.now(ZoneInfo(\"Asia/Kolkata\"))\n",
    "    except:\n",
    "        print(\"Couldn't get Zone Info...\")\n",
    "        now = datetime.now()\n",
    "    time_str = now.strftime(\"%d_%m_%H_%M\")\n",
    "    return time_str"
   ]
  },
  {
   "cell_type": "code",
   "execution_count": 4,
   "id": "5e42b829",
   "metadata": {
    "execution": {
     "iopub.execute_input": "2025-10-04T13:53:49.148284Z",
     "iopub.status.busy": "2025-10-04T13:53:49.148081Z",
     "iopub.status.idle": "2025-10-04T13:53:49.201623Z",
     "shell.execute_reply": "2025-10-04T13:53:49.201081Z"
    },
    "papermill": {
     "duration": 0.058111,
     "end_time": "2025-10-04T13:53:49.202687",
     "exception": false,
     "start_time": "2025-10-04T13:53:49.144576",
     "status": "completed"
    },
    "tags": []
   },
   "outputs": [
    {
     "data": {
      "text/plain": [
       "'cuda'"
      ]
     },
     "execution_count": 4,
     "metadata": {},
     "output_type": "execute_result"
    }
   ],
   "source": [
    "device = \"cuda\" if torch.cuda.is_available() else \"cpu\"\n",
    "device"
   ]
  },
  {
   "cell_type": "markdown",
   "id": "bc88e877",
   "metadata": {
    "papermill": {
     "duration": 0.002998,
     "end_time": "2025-10-04T13:53:49.208904",
     "exception": false,
     "start_time": "2025-10-04T13:53:49.205906",
     "status": "completed"
    },
    "tags": []
   },
   "source": [
    "### Dataset Initialization"
   ]
  },
  {
   "cell_type": "code",
   "execution_count": 5,
   "id": "b93d2938",
   "metadata": {
    "execution": {
     "iopub.execute_input": "2025-10-04T13:53:49.215899Z",
     "iopub.status.busy": "2025-10-04T13:53:49.215641Z",
     "iopub.status.idle": "2025-10-04T13:53:49.221376Z",
     "shell.execute_reply": "2025-10-04T13:53:49.220711Z"
    },
    "papermill": {
     "duration": 0.010333,
     "end_time": "2025-10-04T13:53:49.222360",
     "exception": false,
     "start_time": "2025-10-04T13:53:49.212027",
     "status": "completed"
    },
    "tags": []
   },
   "outputs": [],
   "source": [
    "train_transform = transforms.Compose([\n",
    "    transforms.ToImage(),\n",
    "    transforms.RandomHorizontalFlip(p=0.5),\n",
    "    transforms.RandomCrop(size=32,padding=4),\n",
    "    transforms.ToDtype(torch.float32,scale=True),\n",
    "    transforms.Normalize(mean=(0.4914, 0.4822, 0.4465),std=(0.247, 0.243, 0.261))\n",
    "])\n",
    "\n",
    "test_transform = transforms.Compose([\n",
    "    transforms.ToImage(),\n",
    "    transforms.ToDtype(torch.float32,scale=True),\n",
    "    transforms.Normalize(mean=(0.4914, 0.4822, 0.4465),std=(0.247, 0.243, 0.261))\n",
    "])"
   ]
  },
  {
   "cell_type": "code",
   "execution_count": 6,
   "id": "b0c0b124",
   "metadata": {
    "execution": {
     "iopub.execute_input": "2025-10-04T13:53:49.229192Z",
     "iopub.status.busy": "2025-10-04T13:53:49.229000Z",
     "iopub.status.idle": "2025-10-04T13:53:49.244244Z",
     "shell.execute_reply": "2025-10-04T13:53:49.243421Z"
    },
    "papermill": {
     "duration": 0.019858,
     "end_time": "2025-10-04T13:53:49.245293",
     "exception": false,
     "start_time": "2025-10-04T13:53:49.225435",
     "status": "completed"
    },
    "tags": []
   },
   "outputs": [],
   "source": [
    "from torch.utils.data import default_collate\n",
    "\n",
    "cutmix = transforms.CutMix(num_classes=10)\n",
    "mixup = transforms.MixUp(num_classes=10)\n",
    "cutmix_or_mixup = transforms.RandomChoice([cutmix, mixup])\n",
    "\n",
    "def collate_fn(batch):\n",
    "    return cutmix_or_mixup(*default_collate(batch))"
   ]
  },
  {
   "cell_type": "code",
   "execution_count": 7,
   "id": "a241c7f7",
   "metadata": {
    "execution": {
     "iopub.execute_input": "2025-10-04T13:53:49.252368Z",
     "iopub.status.busy": "2025-10-04T13:53:49.251988Z",
     "iopub.status.idle": "2025-10-04T13:53:55.511209Z",
     "shell.execute_reply": "2025-10-04T13:53:55.510594Z"
    },
    "papermill": {
     "duration": 6.264149,
     "end_time": "2025-10-04T13:53:55.512525",
     "exception": false,
     "start_time": "2025-10-04T13:53:49.248376",
     "status": "completed"
    },
    "tags": []
   },
   "outputs": [
    {
     "name": "stderr",
     "output_type": "stream",
     "text": [
      "100%|██████████| 170M/170M [00:02<00:00, 57.5MB/s]\n"
     ]
    }
   ],
   "source": [
    "# Train dataset\n",
    "train_dataset = torchvision.datasets.CIFAR10(\n",
    "    root=os.path.join(cwd,\"./data\"),\n",
    "    train=True,\n",
    "    download=True,\n",
    "    transform=train_transform # not using any augmentation for baseline\n",
    ")\n",
    "\n",
    "# Test dataset\n",
    "test_dataset = torchvision.datasets.CIFAR10(\n",
    "    root=os.path.join(cwd,\"./data\"),\n",
    "    train=False,\n",
    "    download=True,\n",
    "    transform=test_transform\n",
    ")"
   ]
  },
  {
   "cell_type": "code",
   "execution_count": 8,
   "id": "e5d2fe28",
   "metadata": {
    "execution": {
     "iopub.execute_input": "2025-10-04T13:53:55.523824Z",
     "iopub.status.busy": "2025-10-04T13:53:55.523263Z",
     "iopub.status.idle": "2025-10-04T13:53:55.526791Z",
     "shell.execute_reply": "2025-10-04T13:53:55.526238Z"
    },
    "papermill": {
     "duration": 0.009633,
     "end_time": "2025-10-04T13:53:55.527885",
     "exception": false,
     "start_time": "2025-10-04T13:53:55.518252",
     "status": "completed"
    },
    "tags": []
   },
   "outputs": [],
   "source": [
    "from torch.utils.data import Subset\n",
    "\n",
    "# Quick test with just 500 samples\n",
    "# train_subset = Subset(train_dataset, range(1000))\n",
    "train_subset = train_dataset\n",
    "# test_subset = Subset(test_dataset, range(10000))\n",
    "test_subset = test_dataset"
   ]
  },
  {
   "cell_type": "code",
   "execution_count": 9,
   "id": "debd17e5",
   "metadata": {
    "execution": {
     "iopub.execute_input": "2025-10-04T13:53:55.537202Z",
     "iopub.status.busy": "2025-10-04T13:53:55.537023Z",
     "iopub.status.idle": "2025-10-04T13:53:55.540297Z",
     "shell.execute_reply": "2025-10-04T13:53:55.539843Z"
    },
    "papermill": {
     "duration": 0.009048,
     "end_time": "2025-10-04T13:53:55.541282",
     "exception": false,
     "start_time": "2025-10-04T13:53:55.532234",
     "status": "completed"
    },
    "tags": []
   },
   "outputs": [],
   "source": [
    "train_loader = DataLoader(train_subset, batch_size=512, shuffle=True, num_workers = 8,collate_fn=collate_fn)\n",
    "test_loader = DataLoader(test_subset, batch_size=512, shuffle=False, num_workers = 6)"
   ]
  },
  {
   "cell_type": "markdown",
   "id": "41b5a63b",
   "metadata": {
    "papermill": {
     "duration": 0.004323,
     "end_time": "2025-10-04T13:53:55.549895",
     "exception": false,
     "start_time": "2025-10-04T13:53:55.545572",
     "status": "completed"
    },
    "tags": []
   },
   "source": [
    "### Model Class"
   ]
  },
  {
   "cell_type": "code",
   "execution_count": 10,
   "id": "c5b5f383",
   "metadata": {
    "execution": {
     "iopub.execute_input": "2025-10-04T13:53:55.559343Z",
     "iopub.status.busy": "2025-10-04T13:53:55.559169Z",
     "iopub.status.idle": "2025-10-04T13:53:55.572945Z",
     "shell.execute_reply": "2025-10-04T13:53:55.572419Z"
    },
    "jupyter": {
     "source_hidden": true
    },
    "papermill": {
     "duration": 0.019811,
     "end_time": "2025-10-04T13:53:55.573974",
     "exception": false,
     "start_time": "2025-10-04T13:53:55.554163",
     "status": "completed"
    },
    "tags": []
   },
   "outputs": [],
   "source": [
    "class FeedForward(nn.Module):\n",
    "    def __init__(self, feature_dim, hidden_dim, dropout = 0.):\n",
    "        super().__init__()\n",
    "        self.net = nn.Sequential(\n",
    "            nn.LayerNorm(feature_dim),\n",
    "            nn.Linear(feature_dim, hidden_dim),\n",
    "            nn.GELU(),\n",
    "            nn.Dropout(dropout),\n",
    "            nn.Linear(hidden_dim, feature_dim),\n",
    "            nn.Dropout(dropout)\n",
    "        )\n",
    "\n",
    "    def forward(self, x):\n",
    "        return self.net(x)\n",
    "\n",
    "class Attention(nn.Module):\n",
    "    def __init__(self, feature_dim, heads = 8, dim_head = 64, dropout = 0.):\n",
    "        super().__init__()\n",
    "        inner_dim = dim_head *  heads\n",
    "\n",
    "        self.heads = heads\n",
    "        self.scale = dim_head ** -0.5\n",
    "\n",
    "        self.norm = nn.LayerNorm(feature_dim)\n",
    "\n",
    "        self.attend = nn.Softmax(dim = -1)\n",
    "        self.dropout = nn.Dropout(dropout)\n",
    "\n",
    "        self.to_qkv = nn.Linear(feature_dim, inner_dim * 3, bias = False)\n",
    "\n",
    "        self.to_out = nn.Sequential(\n",
    "            nn.Linear(inner_dim, feature_dim),\n",
    "            nn.Dropout(dropout)\n",
    "        )\n",
    "\n",
    "    def forward(self, x):\n",
    "        x = self.norm(x)\n",
    "\n",
    "        qkv = self.to_qkv(x).chunk(3, dim = -1)\n",
    "        q, k, v = map(lambda t: rearrange(t, 'b n (h d) -> b h n d', h = self.heads), qkv)\n",
    "\n",
    "        dots = torch.matmul(q, k.transpose(-1, -2)) * self.scale\n",
    "\n",
    "        attn = self.attend(dots)\n",
    "        attn = self.dropout(attn)\n",
    "\n",
    "        out = torch.matmul(attn, v)\n",
    "        out = rearrange(out, 'b h n d -> b n (h d)')\n",
    "        return self.to_out(out)\n",
    "\n",
    "class ShiftedPatchTokenization(nn.Module):\n",
    "    def __init__(self, *, feature_dim, patch_size, channels = 3):\n",
    "        super().__init__()\n",
    "        patch_dim = patch_size * patch_size * 5 * channels\n",
    "\n",
    "        self.to_patch_tokens = nn.Sequential(\n",
    "            Rearrange('b c (h p1) (w p2) -> b (h w) (p1 p2 c)', p1 = patch_size, p2 = patch_size),\n",
    "            nn.LayerNorm(patch_dim),\n",
    "            nn.Linear(patch_dim, feature_dim)\n",
    "        )\n",
    "\n",
    "    def forward(self, x):\n",
    "        shifts = ((1, -1, 0, 0), (-1, 1, 0, 0), (0, 0, 1, -1), (0, 0, -1, 1))\n",
    "        shifted_x = list(map(lambda shift: F.pad(x, shift), shifts))\n",
    "        x_with_shifts = torch.cat((x, *shifted_x), dim = 1)\n",
    "        return self.to_patch_tokens(x_with_shifts)\n",
    "\n",
    "class Transformer(nn.Module):\n",
    "    def __init__(self, feature_dim, depth, heads, dim_head, mlp_dim, dropout = 0.):\n",
    "        super().__init__()\n",
    "        self.norm = nn.LayerNorm(feature_dim)\n",
    "        self.layers = nn.ModuleList([])\n",
    "        for _ in range(depth):\n",
    "            self.layers.append(nn.ModuleList([\n",
    "                Attention(feature_dim, heads = heads, dim_head = dim_head, dropout = dropout),\n",
    "                FeedForward(feature_dim, mlp_dim, dropout = dropout)\n",
    "            ]))\n",
    "\n",
    "    def forward(self, x):\n",
    "        for attn, ff in self.layers:\n",
    "            x = attn(x) + x\n",
    "            x = ff(x) + x\n",
    "\n",
    "        return self.norm(x)\n",
    "\n",
    "class ViT(nn.Module):\n",
    "    def __init__(self, *, image_size, patch_size, num_classes, feature_dim, depth, heads, mlp_dim, channels = 3, dim_head = 64, dropout = 0., emb_dropout = 0.):\n",
    "        super().__init__()\n",
    "        image_height, image_width = (image_size,image_size)\n",
    "        patch_height, patch_width = (patch_size,patch_size)\n",
    "\n",
    "        assert (image_height % patch_height == 0) and image_width % patch_width == 0, 'Image dimensions must be divisible by the patch size.'\n",
    "\n",
    "        num_patches = (image_height // patch_height) * (image_width // patch_width)\n",
    "        # patch_dim = channels * patch_height * patch_width\n",
    "        # self.to_patch_embedding = nn.Sequential(\n",
    "        #     Rearrange('b c (h p1) (w p2) -> b (h w) (p1 p2 c)', p1 = patch_height, p2 = patch_width),\n",
    "        #     nn.LayerNorm(patch_dim),\n",
    "        #     nn.Linear(patch_dim, feature_dim),\n",
    "        #     nn.LayerNorm(feature_dim),\n",
    "        # )\n",
    "\n",
    "        self.to_patch_embedding = ShiftedPatchTokenization(\n",
    "            feature_dim=feature_dim,\n",
    "            patch_size=patch_size,\n",
    "            channels=channels\n",
    "        )\n",
    "\n",
    "        self.pos_embedding = nn.Parameter(torch.randn(1, num_patches + 1, feature_dim))\n",
    "        self.cls_token = nn.Parameter(torch.randn(1, 1, feature_dim))\n",
    "        self.dropout = nn.Dropout(emb_dropout)\n",
    "\n",
    "        self.transformer = Transformer(feature_dim, depth, heads, dim_head, mlp_dim, dropout)\n",
    "\n",
    "        self.mlp_head = nn.Linear(feature_dim, num_classes)\n",
    "\n",
    "    def forward(self, img):\n",
    "        x = self.to_patch_embedding(img)\n",
    "        b, n, _ = x.shape\n",
    "\n",
    "        cls_tokens = repeat(self.cls_token, '1 1 d -> b 1 d', b = b)\n",
    "        x = torch.cat((cls_tokens, x), dim=1)\n",
    "        x += self.pos_embedding[:, :(n + 1)]\n",
    "        x = self.dropout(x)\n",
    "\n",
    "        x = self.transformer(x)\n",
    "\n",
    "        x = x[:, 0] # get the CLS token\n",
    "\n",
    "        return self.mlp_head(x)"
   ]
  },
  {
   "cell_type": "code",
   "execution_count": 11,
   "id": "5eee1741",
   "metadata": {
    "execution": {
     "iopub.execute_input": "2025-10-04T13:53:55.583120Z",
     "iopub.status.busy": "2025-10-04T13:53:55.582944Z",
     "iopub.status.idle": "2025-10-04T13:53:55.585442Z",
     "shell.execute_reply": "2025-10-04T13:53:55.584973Z"
    },
    "jupyter": {
     "source_hidden": true
    },
    "papermill": {
     "duration": 0.008202,
     "end_time": "2025-10-04T13:53:55.586430",
     "exception": false,
     "start_time": "2025-10-04T13:53:55.578228",
     "status": "completed"
    },
    "tags": []
   },
   "outputs": [],
   "source": [
    "# model = ViT(\n",
    "#     image_size=32,\n",
    "#     num_classes=10,\n",
    "#     patch_size=4,\n",
    "#     feature_dim=256,\n",
    "#     mlp_dim=512,\n",
    "#     depth=6,\n",
    "#     heads=4,\n",
    "#     dropout=0.3,\n",
    "#     emb_dropout=0.3,\n",
    "#     )"
   ]
  },
  {
   "cell_type": "code",
   "execution_count": 12,
   "id": "978b62d3",
   "metadata": {
    "execution": {
     "iopub.execute_input": "2025-10-04T13:53:55.595955Z",
     "iopub.status.busy": "2025-10-04T13:53:55.595744Z",
     "iopub.status.idle": "2025-10-04T13:53:55.598747Z",
     "shell.execute_reply": "2025-10-04T13:53:55.598090Z"
    },
    "jupyter": {
     "source_hidden": true
    },
    "papermill": {
     "duration": 0.008949,
     "end_time": "2025-10-04T13:53:55.599841",
     "exception": false,
     "start_time": "2025-10-04T13:53:55.590892",
     "status": "completed"
    },
    "tags": []
   },
   "outputs": [],
   "source": [
    "# print(model)"
   ]
  },
  {
   "cell_type": "code",
   "execution_count": 13,
   "id": "87b282e9",
   "metadata": {
    "execution": {
     "iopub.execute_input": "2025-10-04T13:53:55.609066Z",
     "iopub.status.busy": "2025-10-04T13:53:55.608902Z",
     "iopub.status.idle": "2025-10-04T13:53:55.611586Z",
     "shell.execute_reply": "2025-10-04T13:53:55.611102Z"
    },
    "jupyter": {
     "source_hidden": true
    },
    "papermill": {
     "duration": 0.00842,
     "end_time": "2025-10-04T13:53:55.612574",
     "exception": false,
     "start_time": "2025-10-04T13:53:55.604154",
     "status": "completed"
    },
    "tags": []
   },
   "outputs": [],
   "source": [
    "# from torchinfo import summary\n",
    "# summary(model,input_size=(64,3,32,32))"
   ]
  },
  {
   "cell_type": "markdown",
   "id": "1b15d574",
   "metadata": {
    "papermill": {
     "duration": 0.004174,
     "end_time": "2025-10-04T13:53:55.620975",
     "exception": false,
     "start_time": "2025-10-04T13:53:55.616801",
     "status": "completed"
    },
    "tags": []
   },
   "source": [
    "### Training Loop"
   ]
  },
  {
   "cell_type": "code",
   "execution_count": 14,
   "id": "2fd3e9aa",
   "metadata": {
    "execution": {
     "iopub.execute_input": "2025-10-04T13:53:55.630092Z",
     "iopub.status.busy": "2025-10-04T13:53:55.629911Z",
     "iopub.status.idle": "2025-10-04T13:53:55.638538Z",
     "shell.execute_reply": "2025-10-04T13:53:55.638072Z"
    },
    "jupyter": {
     "source_hidden": true
    },
    "papermill": {
     "duration": 0.014399,
     "end_time": "2025-10-04T13:53:55.639528",
     "exception": false,
     "start_time": "2025-10-04T13:53:55.625129",
     "status": "completed"
    },
    "tags": []
   },
   "outputs": [],
   "source": [
    "class SimpleLogger:\n",
    "    def __init__(self) -> None:\n",
    "        self.epoch = []\n",
    "        self.train_loss = []\n",
    "        self.train_acc = []\n",
    "        self.eval_loss = []\n",
    "        self.eval_acc = []\n",
    "        \n",
    "    def log(self, metrics):\n",
    "        self.epoch.append(metrics['epoch'])\n",
    "        self.train_loss.append(metrics['train_loss'])\n",
    "        self.train_acc.append(metrics['train_acc'])\n",
    "        self.eval_loss.append(metrics['eval_loss'])\n",
    "        self.eval_acc.append(metrics['eval_acc'])\n",
    "\n",
    "    def plot_metrics(self, save_path=None,display=False):\n",
    "        if not self.epoch:\n",
    "            print(\"No metrics to plot. Train the model first.\")\n",
    "            return\n",
    "        \n",
    "        epochs = self.epoch\n",
    "        train_losses = self.train_loss\n",
    "        eval_losses = self.eval_loss\n",
    "        train_accs = self.train_acc\n",
    "        eval_accs = self.eval_acc\n",
    "        \n",
    "        plt.close()\n",
    "\n",
    "        fig, (ax1, ax2) = plt.subplots(1, 2, figsize=(14, 5))\n",
    "        \n",
    "        # Plot loss curves\n",
    "        ax1.plot(epochs, train_losses, label='Train Loss', marker='o', linewidth=2)\n",
    "        ax1.plot(epochs, eval_losses, label='Eval Loss', marker='s', linewidth=2)\n",
    "        ax1.set_xlabel('Epochs', fontsize=12)\n",
    "        ax1.set_ylabel('Loss', fontsize=12)\n",
    "        ax1.set_title('Training and Evaluation Loss', fontsize=14, fontweight='bold')\n",
    "        ax1.legend(loc='best')\n",
    "        ax1.grid(True, alpha=0.3)\n",
    "        \n",
    "        # Plot accuracy curves\n",
    "        ax2.plot(epochs, train_accs, label='Train Accuracy', marker='o', linewidth=2)\n",
    "        ax2.plot(epochs, eval_accs, label='Eval Accuracy', marker='s', linewidth=2)\n",
    "        ax2.set_xlabel('Epochs', fontsize=12)\n",
    "        ax2.set_ylabel('Accuracy', fontsize=12)\n",
    "        ax2.set_title('Training and Evaluation Accuracy', fontsize=14, fontweight='bold')\n",
    "        ax2.legend(loc='best')\n",
    "        ax2.grid(True, alpha=0.3)\n",
    "        \n",
    "        plt.tight_layout()\n",
    "        \n",
    "        if save_path is None and display==False:\n",
    "            raise AttributeError('Must provide either save path or option to display.')\n",
    "        else:\n",
    "            if save_path:\n",
    "                plt.savefig(save_path+\".png\", dpi=300, bbox_inches='tight')\n",
    "                print(f\"Plot saved to {save_path}\")\n",
    "            if display:\n",
    "                plt.show()\n",
    "    \n",
    "    def store_log_as_csv(self, save_path=None):\n",
    "        if save_path is None:\n",
    "            raise ValueError(\"Save path cannot be None\")\n",
    "        \n",
    "        save_path += '.csv'\n",
    "        \n",
    "        rows = []\n",
    "        rows.append([\"epoch\", \"train_loss\", \"train_acc\", \"eval_loss\", \"eval_acc\"])\n",
    "        \n",
    "        for i in range(len(self.epoch)):\n",
    "            rows.append([\n",
    "                self.epoch[i],\n",
    "                self.train_loss[i],\n",
    "                self.train_acc[i],\n",
    "                self.eval_loss[i],\n",
    "                self.eval_acc[i]\n",
    "            ])\n",
    "        \n",
    "        with open(save_path, \"w\", newline=\"\") as f:\n",
    "            writer = csv.writer(f)\n",
    "            writer.writerows(rows)"
   ]
  },
  {
   "cell_type": "code",
   "execution_count": 15,
   "id": "a0275cf8",
   "metadata": {
    "execution": {
     "iopub.execute_input": "2025-10-04T13:53:55.648648Z",
     "iopub.status.busy": "2025-10-04T13:53:55.648485Z",
     "iopub.status.idle": "2025-10-04T13:53:55.661811Z",
     "shell.execute_reply": "2025-10-04T13:53:55.661268Z"
    },
    "jupyter": {
     "source_hidden": true
    },
    "papermill": {
     "duration": 0.018982,
     "end_time": "2025-10-04T13:53:55.662743",
     "exception": false,
     "start_time": "2025-10-04T13:53:55.643761",
     "status": "completed"
    },
    "tags": []
   },
   "outputs": [],
   "source": [
    "class Trainer:\n",
    "    def __init__(\n",
    "        self,\n",
    "        model,\n",
    "        train_loader,\n",
    "        test_loader,\n",
    "        optimizer,\n",
    "        loss_fn,\n",
    "        scheduler=None,\n",
    "        logger=None,\n",
    "        ckpt_path=\"checkpoint.pt\",\n",
    "        device=device,\n",
    "    ):\n",
    "        self.model = model\n",
    "        self.train_loader = train_loader\n",
    "        self.test_loader = test_loader\n",
    "        self.optimizer = optimizer\n",
    "        self.loss_fn = loss_fn\n",
    "        self.scheduler = scheduler\n",
    "        self.logger:SimpleLogger = logger\n",
    "        self.ckpt_path = ckpt_path\n",
    "        self.device = device\n",
    "        self.model.to(self.device)\n",
    "        self.best_acc = 0.0\n",
    "        self.start_epoch = 0\n",
    "        self._load_checkpoint()\n",
    "\n",
    "    def _save_checkpoint(self, epoch, acc):\n",
    "        state = {\n",
    "            \"epoch\": epoch,\n",
    "            \"model_state\": self.model.state_dict(),\n",
    "            \"optimizer_state\": self.optimizer.state_dict(),\n",
    "            \"scheduler_state\": self.scheduler.state_dict() if self.scheduler else None,\n",
    "            \"best_acc\": acc,\n",
    "        }\n",
    "        torch.save(state, self.ckpt_path + '.pt')\n",
    "\n",
    "    def _load_checkpoint(self):\n",
    "        if os.path.isfile(self.ckpt_path + '.pt'):\n",
    "            state = torch.load(self.ckpt_path + '.pt', map_location=self.device)\n",
    "            self.model.load_state_dict(state[\"model_state\"])\n",
    "            self.optimizer.load_state_dict(state[\"optimizer_state\"])\n",
    "            if self.scheduler and state.get(\"scheduler_state\"):\n",
    "                self.scheduler.load_state_dict(state[\"scheduler_state\"])\n",
    "            self.best_acc = state.get(\"best_acc\", 0.0)\n",
    "            self.start_epoch = state.get(\"epoch\", 0)\n",
    "\n",
    "    def train(self, num_epochs):\n",
    "        for epoch in range(self.start_epoch, num_epochs):\n",
    "            print(f'Epoch {epoch}/{num_epochs}')\n",
    "            train_loss, train_acc = self._train_one_epoch(epoch)\n",
    "            eval_loss, eval_acc = self._evaluate(epoch)\n",
    "            if self.logger:\n",
    "                self.logger.log({\n",
    "                    \"epoch\": epoch,\n",
    "                    \"train_loss\": train_loss,\n",
    "                    \"train_acc\": train_acc,\n",
    "                    \"eval_loss\": eval_loss,\n",
    "                    \"eval_acc\": eval_acc\n",
    "                })\n",
    "            if eval_acc > self.best_acc:\n",
    "                self.best_acc = eval_acc\n",
    "                print(\"Saving model...\")\n",
    "                self._save_checkpoint(epoch, eval_acc)\n",
    "            if self.scheduler:\n",
    "                self.scheduler.step()\n",
    "            print(f\"Train Loss: {train_loss:.4f} | Train Acc: {train_acc:.2f} | Best Eval Acc: {self.best_acc:.2f}\")\n",
    "        \n",
    "        self.logger.plot_metrics(save_path = self.ckpt_path)\n",
    "        self.logger.store_log_as_csv(self.ckpt_path)\n",
    "        return self.best_acc\n",
    "\n",
    "    def _train_one_epoch(self, epoch):\n",
    "        self.model.train()\n",
    "        total_loss = 0.0\n",
    "        total_correct = 0\n",
    "        total_samples = 0\n",
    "\n",
    "        pbar = tqdm(self.train_loader, total=len(self.train_loader),desc=\"Training: \")\n",
    "        for batch in pbar:\n",
    "            x, y = batch[0].to(self.device), batch[1].to(self.device)\n",
    "            self.optimizer.zero_grad()\n",
    "            outputs = self.model(x)\n",
    "\n",
    "            if torch.is_floating_point(y) and y.dim() == 2:\n",
    "                # y are soft labels\n",
    "                log_probs = F.log_softmax(outputs, dim=1)\n",
    "                # negative log-likelihood for soft labels\n",
    "                loss = -(y * log_probs).sum(dim=1).mean()\n",
    "            else:\n",
    "                # assume standard class indices\n",
    "                loss = self.loss_fn(outputs, y)\n",
    "            \n",
    "            loss = self.loss_fn(outputs, y)\n",
    "            loss.backward()\n",
    "            self.optimizer.step()\n",
    "            total_loss += loss.item() * x.size(0)\n",
    "\n",
    "            # need to calculate accuracy differently for soft labels\n",
    "            labels = batch[1]\n",
    "            if torch.is_floating_point(labels) and labels.dim() == 2:\n",
    "                # compute accuracy by comparing argmax of soft labels\n",
    "                target_indices = labels.argmax(dim=1).to(self.device)\n",
    "                total_correct += (outputs.argmax(1) == target_indices).sum().item()\n",
    "            else:\n",
    "                total_correct += (outputs.argmax(1) == y).sum().item()\n",
    "            total_samples += x.size(0)\n",
    "\n",
    "        avg_loss = total_loss / total_samples\n",
    "        avg_acc = total_correct / total_samples\n",
    "        return avg_loss, avg_acc\n",
    "\n",
    "    def _evaluate(self, epoch):\n",
    "        self.model.eval()\n",
    "        total_loss = 0.0\n",
    "        total_correct = 0\n",
    "        total_samples = 0\n",
    "\n",
    "        with torch.no_grad():\n",
    "            pbar = tqdm(self.test_loader, total=len(self.test_loader),desc=\"Evaluating: \")\n",
    "            for batch in pbar:\n",
    "                x, y = batch[0].to(self.device), batch[1].to(self.device)\n",
    "                outputs = self.model(x)\n",
    "                loss = self.loss_fn(outputs, y)\n",
    "                total_loss += loss.item() * x.size(0)\n",
    "                total_correct += (outputs.argmax(1) == y).sum().item()\n",
    "                total_samples += x.size(0)\n",
    "        avg_loss = total_loss / total_samples\n",
    "        avg_acc = total_correct / total_samples\n",
    "        return avg_loss, avg_acc"
   ]
  },
  {
   "cell_type": "code",
   "execution_count": 16,
   "id": "6358d531",
   "metadata": {
    "execution": {
     "iopub.execute_input": "2025-10-04T13:53:55.671956Z",
     "iopub.status.busy": "2025-10-04T13:53:55.671789Z",
     "iopub.status.idle": "2025-10-04T20:59:57.319253Z",
     "shell.execute_reply": "2025-10-04T20:59:57.318454Z"
    },
    "papermill": {
     "duration": 25561.653373,
     "end_time": "2025-10-04T20:59:57.320421",
     "exception": false,
     "start_time": "2025-10-04T13:53:55.667048",
     "status": "completed"
    },
    "tags": []
   },
   "outputs": [
    {
     "name": "stdout",
     "output_type": "stream",
     "text": [
      "Saving to checkpoint_04_10_19_23_SPT\n",
      "Epoch 0/200\n"
     ]
    },
    {
     "name": "stderr",
     "output_type": "stream",
     "text": [
      "Training: 100%|██████████| 98/98 [01:59<00:00,  1.22s/it]\n",
      "Evaluating: 100%|██████████| 20/20 [00:08<00:00,  2.28it/s]\n"
     ]
    },
    {
     "name": "stdout",
     "output_type": "stream",
     "text": [
      "Saving model...\n",
      "Train Loss: 2.2766 | Train Acc: 0.15 | Best Eval Acc: 0.21\n",
      "Epoch 1/200\n"
     ]
    },
    {
     "name": "stderr",
     "output_type": "stream",
     "text": [
      "Training: 100%|██████████| 98/98 [01:58<00:00,  1.21s/it]\n",
      "Evaluating: 100%|██████████| 20/20 [00:08<00:00,  2.31it/s]\n"
     ]
    },
    {
     "name": "stdout",
     "output_type": "stream",
     "text": [
      "Saving model...\n",
      "Train Loss: 2.1840 | Train Acc: 0.19 | Best Eval Acc: 0.25\n",
      "Epoch 2/200\n"
     ]
    },
    {
     "name": "stderr",
     "output_type": "stream",
     "text": [
      "Training: 100%|██████████| 98/98 [01:58<00:00,  1.21s/it]\n",
      "Evaluating: 100%|██████████| 20/20 [00:08<00:00,  2.26it/s]\n"
     ]
    },
    {
     "name": "stdout",
     "output_type": "stream",
     "text": [
      "Saving model...\n",
      "Train Loss: 2.1099 | Train Acc: 0.23 | Best Eval Acc: 0.34\n",
      "Epoch 3/200\n"
     ]
    },
    {
     "name": "stderr",
     "output_type": "stream",
     "text": [
      "Training: 100%|██████████| 98/98 [01:58<00:00,  1.21s/it]\n",
      "Evaluating: 100%|██████████| 20/20 [00:08<00:00,  2.29it/s]\n"
     ]
    },
    {
     "name": "stdout",
     "output_type": "stream",
     "text": [
      "Saving model...\n",
      "Train Loss: 2.0301 | Train Acc: 0.29 | Best Eval Acc: 0.39\n",
      "Epoch 4/200\n"
     ]
    },
    {
     "name": "stderr",
     "output_type": "stream",
     "text": [
      "Training: 100%|██████████| 98/98 [01:58<00:00,  1.21s/it]\n",
      "Evaluating: 100%|██████████| 20/20 [00:08<00:00,  2.30it/s]\n"
     ]
    },
    {
     "name": "stdout",
     "output_type": "stream",
     "text": [
      "Saving model...\n",
      "Train Loss: 1.9751 | Train Acc: 0.32 | Best Eval Acc: 0.44\n",
      "Epoch 5/200\n"
     ]
    },
    {
     "name": "stderr",
     "output_type": "stream",
     "text": [
      "Training: 100%|██████████| 98/98 [01:58<00:00,  1.21s/it]\n",
      "Evaluating: 100%|██████████| 20/20 [00:08<00:00,  2.27it/s]\n"
     ]
    },
    {
     "name": "stdout",
     "output_type": "stream",
     "text": [
      "Saving model...\n",
      "Train Loss: 1.9306 | Train Acc: 0.34 | Best Eval Acc: 0.47\n",
      "Epoch 6/200\n"
     ]
    },
    {
     "name": "stderr",
     "output_type": "stream",
     "text": [
      "Training: 100%|██████████| 98/98 [01:58<00:00,  1.21s/it]\n",
      "Evaluating: 100%|██████████| 20/20 [00:08<00:00,  2.28it/s]\n"
     ]
    },
    {
     "name": "stdout",
     "output_type": "stream",
     "text": [
      "Saving model...\n",
      "Train Loss: 1.8923 | Train Acc: 0.37 | Best Eval Acc: 0.51\n",
      "Epoch 7/200\n"
     ]
    },
    {
     "name": "stderr",
     "output_type": "stream",
     "text": [
      "Training: 100%|██████████| 98/98 [01:58<00:00,  1.21s/it]\n",
      "Evaluating: 100%|██████████| 20/20 [00:08<00:00,  2.28it/s]\n"
     ]
    },
    {
     "name": "stdout",
     "output_type": "stream",
     "text": [
      "Train Loss: 1.9044 | Train Acc: 0.37 | Best Eval Acc: 0.51\n",
      "Epoch 8/200\n"
     ]
    },
    {
     "name": "stderr",
     "output_type": "stream",
     "text": [
      "Training: 100%|██████████| 98/98 [01:58<00:00,  1.21s/it]\n",
      "Evaluating: 100%|██████████| 20/20 [00:08<00:00,  2.31it/s]\n"
     ]
    },
    {
     "name": "stdout",
     "output_type": "stream",
     "text": [
      "Saving model...\n",
      "Train Loss: 1.8686 | Train Acc: 0.39 | Best Eval Acc: 0.53\n",
      "Epoch 9/200\n"
     ]
    },
    {
     "name": "stderr",
     "output_type": "stream",
     "text": [
      "Training: 100%|██████████| 98/98 [01:58<00:00,  1.21s/it]\n",
      "Evaluating: 100%|██████████| 20/20 [00:08<00:00,  2.27it/s]\n"
     ]
    },
    {
     "name": "stdout",
     "output_type": "stream",
     "text": [
      "Saving model...\n",
      "Train Loss: 1.8696 | Train Acc: 0.38 | Best Eval Acc: 0.54\n",
      "Epoch 10/200\n"
     ]
    },
    {
     "name": "stderr",
     "output_type": "stream",
     "text": [
      "Training: 100%|██████████| 98/98 [01:58<00:00,  1.21s/it]\n",
      "Evaluating: 100%|██████████| 20/20 [00:08<00:00,  2.28it/s]\n"
     ]
    },
    {
     "name": "stdout",
     "output_type": "stream",
     "text": [
      "Saving model...\n",
      "Train Loss: 1.8151 | Train Acc: 0.41 | Best Eval Acc: 0.56\n",
      "Epoch 11/200\n"
     ]
    },
    {
     "name": "stderr",
     "output_type": "stream",
     "text": [
      "Training: 100%|██████████| 98/98 [01:58<00:00,  1.21s/it]\n",
      "Evaluating: 100%|██████████| 20/20 [00:08<00:00,  2.26it/s]\n"
     ]
    },
    {
     "name": "stdout",
     "output_type": "stream",
     "text": [
      "Train Loss: 1.7830 | Train Acc: 0.43 | Best Eval Acc: 0.56\n",
      "Epoch 12/200\n"
     ]
    },
    {
     "name": "stderr",
     "output_type": "stream",
     "text": [
      "Training: 100%|██████████| 98/98 [01:58<00:00,  1.21s/it]\n",
      "Evaluating: 100%|██████████| 20/20 [00:08<00:00,  2.28it/s]\n"
     ]
    },
    {
     "name": "stdout",
     "output_type": "stream",
     "text": [
      "Saving model...\n",
      "Train Loss: 1.7799 | Train Acc: 0.44 | Best Eval Acc: 0.57\n",
      "Epoch 13/200\n"
     ]
    },
    {
     "name": "stderr",
     "output_type": "stream",
     "text": [
      "Training: 100%|██████████| 98/98 [01:58<00:00,  1.21s/it]\n",
      "Evaluating: 100%|██████████| 20/20 [00:08<00:00,  2.26it/s]\n"
     ]
    },
    {
     "name": "stdout",
     "output_type": "stream",
     "text": [
      "Train Loss: 1.8008 | Train Acc: 0.42 | Best Eval Acc: 0.57\n",
      "Epoch 14/200\n"
     ]
    },
    {
     "name": "stderr",
     "output_type": "stream",
     "text": [
      "Training: 100%|██████████| 98/98 [01:58<00:00,  1.21s/it]\n",
      "Evaluating: 100%|██████████| 20/20 [00:08<00:00,  2.28it/s]\n"
     ]
    },
    {
     "name": "stdout",
     "output_type": "stream",
     "text": [
      "Saving model...\n",
      "Train Loss: 1.7267 | Train Acc: 0.45 | Best Eval Acc: 0.58\n",
      "Epoch 15/200\n"
     ]
    },
    {
     "name": "stderr",
     "output_type": "stream",
     "text": [
      "Training: 100%|██████████| 98/98 [01:58<00:00,  1.21s/it]\n",
      "Evaluating: 100%|██████████| 20/20 [00:08<00:00,  2.29it/s]\n"
     ]
    },
    {
     "name": "stdout",
     "output_type": "stream",
     "text": [
      "Train Loss: 1.7517 | Train Acc: 0.45 | Best Eval Acc: 0.58\n",
      "Epoch 16/200\n"
     ]
    },
    {
     "name": "stderr",
     "output_type": "stream",
     "text": [
      "Training: 100%|██████████| 98/98 [01:58<00:00,  1.21s/it]\n",
      "Evaluating: 100%|██████████| 20/20 [00:08<00:00,  2.25it/s]\n"
     ]
    },
    {
     "name": "stdout",
     "output_type": "stream",
     "text": [
      "Saving model...\n",
      "Train Loss: 1.7697 | Train Acc: 0.44 | Best Eval Acc: 0.60\n",
      "Epoch 17/200\n"
     ]
    },
    {
     "name": "stderr",
     "output_type": "stream",
     "text": [
      "Training: 100%|██████████| 98/98 [01:58<00:00,  1.21s/it]\n",
      "Evaluating: 100%|██████████| 20/20 [00:08<00:00,  2.31it/s]\n"
     ]
    },
    {
     "name": "stdout",
     "output_type": "stream",
     "text": [
      "Train Loss: 1.7436 | Train Acc: 0.45 | Best Eval Acc: 0.60\n",
      "Epoch 18/200\n"
     ]
    },
    {
     "name": "stderr",
     "output_type": "stream",
     "text": [
      "Training: 100%|██████████| 98/98 [01:58<00:00,  1.21s/it]\n",
      "Evaluating: 100%|██████████| 20/20 [00:09<00:00,  2.22it/s]\n"
     ]
    },
    {
     "name": "stdout",
     "output_type": "stream",
     "text": [
      "Saving model...\n",
      "Train Loss: 1.7247 | Train Acc: 0.46 | Best Eval Acc: 0.61\n",
      "Epoch 19/200\n"
     ]
    },
    {
     "name": "stderr",
     "output_type": "stream",
     "text": [
      "Training: 100%|██████████| 98/98 [01:58<00:00,  1.21s/it]\n",
      "Evaluating: 100%|██████████| 20/20 [00:08<00:00,  2.29it/s]\n"
     ]
    },
    {
     "name": "stdout",
     "output_type": "stream",
     "text": [
      "Saving model...\n",
      "Train Loss: 1.7193 | Train Acc: 0.47 | Best Eval Acc: 0.62\n",
      "Epoch 20/200\n"
     ]
    },
    {
     "name": "stderr",
     "output_type": "stream",
     "text": [
      "Training: 100%|██████████| 98/98 [01:58<00:00,  1.21s/it]\n",
      "Evaluating: 100%|██████████| 20/20 [00:08<00:00,  2.29it/s]\n"
     ]
    },
    {
     "name": "stdout",
     "output_type": "stream",
     "text": [
      "Train Loss: 1.7107 | Train Acc: 0.47 | Best Eval Acc: 0.62\n",
      "Epoch 21/200\n"
     ]
    },
    {
     "name": "stderr",
     "output_type": "stream",
     "text": [
      "Training: 100%|██████████| 98/98 [01:58<00:00,  1.21s/it]\n",
      "Evaluating: 100%|██████████| 20/20 [00:08<00:00,  2.31it/s]\n"
     ]
    },
    {
     "name": "stdout",
     "output_type": "stream",
     "text": [
      "Saving model...\n",
      "Train Loss: 1.7257 | Train Acc: 0.47 | Best Eval Acc: 0.62\n",
      "Epoch 22/200\n"
     ]
    },
    {
     "name": "stderr",
     "output_type": "stream",
     "text": [
      "Training: 100%|██████████| 98/98 [01:58<00:00,  1.21s/it]\n",
      "Evaluating: 100%|██████████| 20/20 [00:08<00:00,  2.30it/s]\n"
     ]
    },
    {
     "name": "stdout",
     "output_type": "stream",
     "text": [
      "Train Loss: 1.6903 | Train Acc: 0.49 | Best Eval Acc: 0.62\n",
      "Epoch 23/200\n"
     ]
    },
    {
     "name": "stderr",
     "output_type": "stream",
     "text": [
      "Training: 100%|██████████| 98/98 [01:58<00:00,  1.21s/it]\n",
      "Evaluating: 100%|██████████| 20/20 [00:08<00:00,  2.26it/s]\n"
     ]
    },
    {
     "name": "stdout",
     "output_type": "stream",
     "text": [
      "Saving model...\n",
      "Train Loss: 1.6794 | Train Acc: 0.50 | Best Eval Acc: 0.65\n",
      "Epoch 24/200\n"
     ]
    },
    {
     "name": "stderr",
     "output_type": "stream",
     "text": [
      "Training: 100%|██████████| 98/98 [01:58<00:00,  1.21s/it]\n",
      "Evaluating: 100%|██████████| 20/20 [00:09<00:00,  2.18it/s]\n"
     ]
    },
    {
     "name": "stdout",
     "output_type": "stream",
     "text": [
      "Train Loss: 1.6350 | Train Acc: 0.51 | Best Eval Acc: 0.65\n",
      "Epoch 25/200\n"
     ]
    },
    {
     "name": "stderr",
     "output_type": "stream",
     "text": [
      "Training: 100%|██████████| 98/98 [01:59<00:00,  1.22s/it]\n",
      "Evaluating: 100%|██████████| 20/20 [00:09<00:00,  2.16it/s]\n"
     ]
    },
    {
     "name": "stdout",
     "output_type": "stream",
     "text": [
      "Train Loss: 1.6302 | Train Acc: 0.52 | Best Eval Acc: 0.65\n",
      "Epoch 26/200\n"
     ]
    },
    {
     "name": "stderr",
     "output_type": "stream",
     "text": [
      "Training: 100%|██████████| 98/98 [01:59<00:00,  1.22s/it]\n",
      "Evaluating: 100%|██████████| 20/20 [00:08<00:00,  2.26it/s]\n"
     ]
    },
    {
     "name": "stdout",
     "output_type": "stream",
     "text": [
      "Train Loss: 1.6564 | Train Acc: 0.51 | Best Eval Acc: 0.65\n",
      "Epoch 27/200\n"
     ]
    },
    {
     "name": "stderr",
     "output_type": "stream",
     "text": [
      "Training: 100%|██████████| 98/98 [01:58<00:00,  1.21s/it]\n",
      "Evaluating: 100%|██████████| 20/20 [00:08<00:00,  2.27it/s]\n"
     ]
    },
    {
     "name": "stdout",
     "output_type": "stream",
     "text": [
      "Saving model...\n",
      "Train Loss: 1.6739 | Train Acc: 0.50 | Best Eval Acc: 0.65\n",
      "Epoch 28/200\n"
     ]
    },
    {
     "name": "stderr",
     "output_type": "stream",
     "text": [
      "Training: 100%|██████████| 98/98 [01:58<00:00,  1.21s/it]\n",
      "Evaluating: 100%|██████████| 20/20 [00:08<00:00,  2.29it/s]\n"
     ]
    },
    {
     "name": "stdout",
     "output_type": "stream",
     "text": [
      "Train Loss: 1.6718 | Train Acc: 0.49 | Best Eval Acc: 0.65\n",
      "Epoch 29/200\n"
     ]
    },
    {
     "name": "stderr",
     "output_type": "stream",
     "text": [
      "Training: 100%|██████████| 98/98 [01:58<00:00,  1.21s/it]\n",
      "Evaluating: 100%|██████████| 20/20 [00:08<00:00,  2.30it/s]\n"
     ]
    },
    {
     "name": "stdout",
     "output_type": "stream",
     "text": [
      "Train Loss: 1.6640 | Train Acc: 0.50 | Best Eval Acc: 0.65\n",
      "Epoch 30/200\n"
     ]
    },
    {
     "name": "stderr",
     "output_type": "stream",
     "text": [
      "Training: 100%|██████████| 98/98 [01:58<00:00,  1.21s/it]\n",
      "Evaluating: 100%|██████████| 20/20 [00:08<00:00,  2.29it/s]\n"
     ]
    },
    {
     "name": "stdout",
     "output_type": "stream",
     "text": [
      "Saving model...\n",
      "Train Loss: 1.6297 | Train Acc: 0.51 | Best Eval Acc: 0.66\n",
      "Epoch 31/200\n"
     ]
    },
    {
     "name": "stderr",
     "output_type": "stream",
     "text": [
      "Training: 100%|██████████| 98/98 [01:58<00:00,  1.21s/it]\n",
      "Evaluating: 100%|██████████| 20/20 [00:08<00:00,  2.29it/s]\n"
     ]
    },
    {
     "name": "stdout",
     "output_type": "stream",
     "text": [
      "Saving model...\n",
      "Train Loss: 1.6421 | Train Acc: 0.51 | Best Eval Acc: 0.66\n",
      "Epoch 32/200\n"
     ]
    },
    {
     "name": "stderr",
     "output_type": "stream",
     "text": [
      "Training: 100%|██████████| 98/98 [01:58<00:00,  1.21s/it]\n",
      "Evaluating: 100%|██████████| 20/20 [00:08<00:00,  2.31it/s]\n"
     ]
    },
    {
     "name": "stdout",
     "output_type": "stream",
     "text": [
      "Saving model...\n",
      "Train Loss: 1.6102 | Train Acc: 0.52 | Best Eval Acc: 0.69\n",
      "Epoch 33/200\n"
     ]
    },
    {
     "name": "stderr",
     "output_type": "stream",
     "text": [
      "Training: 100%|██████████| 98/98 [01:58<00:00,  1.21s/it]\n",
      "Evaluating: 100%|██████████| 20/20 [00:08<00:00,  2.30it/s]\n"
     ]
    },
    {
     "name": "stdout",
     "output_type": "stream",
     "text": [
      "Train Loss: 1.6146 | Train Acc: 0.53 | Best Eval Acc: 0.69\n",
      "Epoch 34/200\n"
     ]
    },
    {
     "name": "stderr",
     "output_type": "stream",
     "text": [
      "Training: 100%|██████████| 98/98 [01:58<00:00,  1.21s/it]\n",
      "Evaluating: 100%|██████████| 20/20 [00:08<00:00,  2.25it/s]\n"
     ]
    },
    {
     "name": "stdout",
     "output_type": "stream",
     "text": [
      "Train Loss: 1.5859 | Train Acc: 0.54 | Best Eval Acc: 0.69\n",
      "Epoch 35/200\n"
     ]
    },
    {
     "name": "stderr",
     "output_type": "stream",
     "text": [
      "Training: 100%|██████████| 98/98 [01:58<00:00,  1.21s/it]\n",
      "Evaluating: 100%|██████████| 20/20 [00:08<00:00,  2.26it/s]\n"
     ]
    },
    {
     "name": "stdout",
     "output_type": "stream",
     "text": [
      "Saving model...\n",
      "Train Loss: 1.5758 | Train Acc: 0.54 | Best Eval Acc: 0.69\n",
      "Epoch 36/200\n"
     ]
    },
    {
     "name": "stderr",
     "output_type": "stream",
     "text": [
      "Training: 100%|██████████| 98/98 [01:58<00:00,  1.21s/it]\n",
      "Evaluating: 100%|██████████| 20/20 [00:08<00:00,  2.29it/s]\n"
     ]
    },
    {
     "name": "stdout",
     "output_type": "stream",
     "text": [
      "Train Loss: 1.5855 | Train Acc: 0.54 | Best Eval Acc: 0.69\n",
      "Epoch 37/200\n"
     ]
    },
    {
     "name": "stderr",
     "output_type": "stream",
     "text": [
      "Training: 100%|██████████| 98/98 [01:58<00:00,  1.21s/it]\n",
      "Evaluating: 100%|██████████| 20/20 [00:08<00:00,  2.30it/s]\n"
     ]
    },
    {
     "name": "stdout",
     "output_type": "stream",
     "text": [
      "Saving model...\n",
      "Train Loss: 1.5490 | Train Acc: 0.56 | Best Eval Acc: 0.71\n",
      "Epoch 38/200\n"
     ]
    },
    {
     "name": "stderr",
     "output_type": "stream",
     "text": [
      "Training: 100%|██████████| 98/98 [01:58<00:00,  1.21s/it]\n",
      "Evaluating: 100%|██████████| 20/20 [00:08<00:00,  2.25it/s]\n"
     ]
    },
    {
     "name": "stdout",
     "output_type": "stream",
     "text": [
      "Train Loss: 1.5505 | Train Acc: 0.56 | Best Eval Acc: 0.71\n",
      "Epoch 39/200\n"
     ]
    },
    {
     "name": "stderr",
     "output_type": "stream",
     "text": [
      "Training: 100%|██████████| 98/98 [01:58<00:00,  1.21s/it]\n",
      "Evaluating: 100%|██████████| 20/20 [00:08<00:00,  2.27it/s]\n"
     ]
    },
    {
     "name": "stdout",
     "output_type": "stream",
     "text": [
      "Saving model...\n",
      "Train Loss: 1.5342 | Train Acc: 0.56 | Best Eval Acc: 0.72\n",
      "Epoch 40/200\n"
     ]
    },
    {
     "name": "stderr",
     "output_type": "stream",
     "text": [
      "Training: 100%|██████████| 98/98 [01:58<00:00,  1.21s/it]\n",
      "Evaluating: 100%|██████████| 20/20 [00:08<00:00,  2.27it/s]\n"
     ]
    },
    {
     "name": "stdout",
     "output_type": "stream",
     "text": [
      "Saving model...\n",
      "Train Loss: 1.5296 | Train Acc: 0.57 | Best Eval Acc: 0.72\n",
      "Epoch 41/200\n"
     ]
    },
    {
     "name": "stderr",
     "output_type": "stream",
     "text": [
      "Training: 100%|██████████| 98/98 [01:58<00:00,  1.21s/it]\n",
      "Evaluating: 100%|██████████| 20/20 [00:08<00:00,  2.27it/s]\n"
     ]
    },
    {
     "name": "stdout",
     "output_type": "stream",
     "text": [
      "Train Loss: 1.5867 | Train Acc: 0.55 | Best Eval Acc: 0.72\n",
      "Epoch 42/200\n"
     ]
    },
    {
     "name": "stderr",
     "output_type": "stream",
     "text": [
      "Training: 100%|██████████| 98/98 [01:58<00:00,  1.21s/it]\n",
      "Evaluating: 100%|██████████| 20/20 [00:08<00:00,  2.27it/s]\n"
     ]
    },
    {
     "name": "stdout",
     "output_type": "stream",
     "text": [
      "Saving model...\n",
      "Train Loss: 1.5148 | Train Acc: 0.58 | Best Eval Acc: 0.73\n",
      "Epoch 43/200\n"
     ]
    },
    {
     "name": "stderr",
     "output_type": "stream",
     "text": [
      "Training: 100%|██████████| 98/98 [01:58<00:00,  1.21s/it]\n",
      "Evaluating: 100%|██████████| 20/20 [00:08<00:00,  2.29it/s]\n"
     ]
    },
    {
     "name": "stdout",
     "output_type": "stream",
     "text": [
      "Train Loss: 1.4827 | Train Acc: 0.59 | Best Eval Acc: 0.73\n",
      "Epoch 44/200\n"
     ]
    },
    {
     "name": "stderr",
     "output_type": "stream",
     "text": [
      "Training: 100%|██████████| 98/98 [01:58<00:00,  1.21s/it]\n",
      "Evaluating: 100%|██████████| 20/20 [00:08<00:00,  2.26it/s]\n"
     ]
    },
    {
     "name": "stdout",
     "output_type": "stream",
     "text": [
      "Train Loss: 1.4561 | Train Acc: 0.60 | Best Eval Acc: 0.73\n",
      "Epoch 45/200\n"
     ]
    },
    {
     "name": "stderr",
     "output_type": "stream",
     "text": [
      "Training: 100%|██████████| 98/98 [01:58<00:00,  1.21s/it]\n",
      "Evaluating: 100%|██████████| 20/20 [00:08<00:00,  2.29it/s]\n"
     ]
    },
    {
     "name": "stdout",
     "output_type": "stream",
     "text": [
      "Saving model...\n",
      "Train Loss: 1.4768 | Train Acc: 0.59 | Best Eval Acc: 0.74\n",
      "Epoch 46/200\n"
     ]
    },
    {
     "name": "stderr",
     "output_type": "stream",
     "text": [
      "Training: 100%|██████████| 98/98 [01:58<00:00,  1.21s/it]\n",
      "Evaluating: 100%|██████████| 20/20 [00:08<00:00,  2.29it/s]\n"
     ]
    },
    {
     "name": "stdout",
     "output_type": "stream",
     "text": [
      "Train Loss: 1.5327 | Train Acc: 0.58 | Best Eval Acc: 0.74\n",
      "Epoch 47/200\n"
     ]
    },
    {
     "name": "stderr",
     "output_type": "stream",
     "text": [
      "Training: 100%|██████████| 98/98 [01:58<00:00,  1.21s/it]\n",
      "Evaluating: 100%|██████████| 20/20 [00:08<00:00,  2.29it/s]\n"
     ]
    },
    {
     "name": "stdout",
     "output_type": "stream",
     "text": [
      "Train Loss: 1.5655 | Train Acc: 0.56 | Best Eval Acc: 0.74\n",
      "Epoch 48/200\n"
     ]
    },
    {
     "name": "stderr",
     "output_type": "stream",
     "text": [
      "Training: 100%|██████████| 98/98 [01:58<00:00,  1.21s/it]\n",
      "Evaluating: 100%|██████████| 20/20 [00:08<00:00,  2.29it/s]\n"
     ]
    },
    {
     "name": "stdout",
     "output_type": "stream",
     "text": [
      "Train Loss: 1.5205 | Train Acc: 0.57 | Best Eval Acc: 0.74\n",
      "Epoch 49/200\n"
     ]
    },
    {
     "name": "stderr",
     "output_type": "stream",
     "text": [
      "Training: 100%|██████████| 98/98 [01:58<00:00,  1.21s/it]\n",
      "Evaluating: 100%|██████████| 20/20 [00:08<00:00,  2.30it/s]\n"
     ]
    },
    {
     "name": "stdout",
     "output_type": "stream",
     "text": [
      "Train Loss: 1.4825 | Train Acc: 0.60 | Best Eval Acc: 0.74\n",
      "Epoch 50/200\n"
     ]
    },
    {
     "name": "stderr",
     "output_type": "stream",
     "text": [
      "Training: 100%|██████████| 98/98 [01:58<00:00,  1.21s/it]\n",
      "Evaluating: 100%|██████████| 20/20 [00:08<00:00,  2.25it/s]\n"
     ]
    },
    {
     "name": "stdout",
     "output_type": "stream",
     "text": [
      "Train Loss: 1.5207 | Train Acc: 0.58 | Best Eval Acc: 0.74\n",
      "Epoch 51/200\n"
     ]
    },
    {
     "name": "stderr",
     "output_type": "stream",
     "text": [
      "Training: 100%|██████████| 98/98 [01:58<00:00,  1.21s/it]\n",
      "Evaluating: 100%|██████████| 20/20 [00:08<00:00,  2.30it/s]\n"
     ]
    },
    {
     "name": "stdout",
     "output_type": "stream",
     "text": [
      "Saving model...\n",
      "Train Loss: 1.4616 | Train Acc: 0.61 | Best Eval Acc: 0.79\n",
      "Epoch 52/200\n"
     ]
    },
    {
     "name": "stderr",
     "output_type": "stream",
     "text": [
      "Training: 100%|██████████| 98/98 [01:58<00:00,  1.21s/it]\n",
      "Evaluating: 100%|██████████| 20/20 [00:08<00:00,  2.30it/s]\n"
     ]
    },
    {
     "name": "stdout",
     "output_type": "stream",
     "text": [
      "Train Loss: 1.3979 | Train Acc: 0.63 | Best Eval Acc: 0.79\n",
      "Epoch 53/200\n"
     ]
    },
    {
     "name": "stderr",
     "output_type": "stream",
     "text": [
      "Training: 100%|██████████| 98/98 [01:58<00:00,  1.21s/it]\n",
      "Evaluating: 100%|██████████| 20/20 [00:08<00:00,  2.29it/s]\n"
     ]
    },
    {
     "name": "stdout",
     "output_type": "stream",
     "text": [
      "Train Loss: 1.4293 | Train Acc: 0.62 | Best Eval Acc: 0.79\n",
      "Epoch 54/200\n"
     ]
    },
    {
     "name": "stderr",
     "output_type": "stream",
     "text": [
      "Training: 100%|██████████| 98/98 [01:58<00:00,  1.21s/it]\n",
      "Evaluating: 100%|██████████| 20/20 [00:08<00:00,  2.25it/s]\n"
     ]
    },
    {
     "name": "stdout",
     "output_type": "stream",
     "text": [
      "Train Loss: 1.4540 | Train Acc: 0.61 | Best Eval Acc: 0.79\n",
      "Epoch 55/200\n"
     ]
    },
    {
     "name": "stderr",
     "output_type": "stream",
     "text": [
      "Training: 100%|██████████| 98/98 [01:58<00:00,  1.21s/it]\n",
      "Evaluating: 100%|██████████| 20/20 [00:08<00:00,  2.30it/s]\n"
     ]
    },
    {
     "name": "stdout",
     "output_type": "stream",
     "text": [
      "Train Loss: 1.4257 | Train Acc: 0.62 | Best Eval Acc: 0.79\n",
      "Epoch 56/200\n"
     ]
    },
    {
     "name": "stderr",
     "output_type": "stream",
     "text": [
      "Training: 100%|██████████| 98/98 [01:58<00:00,  1.21s/it]\n",
      "Evaluating: 100%|██████████| 20/20 [00:08<00:00,  2.28it/s]\n"
     ]
    },
    {
     "name": "stdout",
     "output_type": "stream",
     "text": [
      "Saving model...\n",
      "Train Loss: 1.4293 | Train Acc: 0.63 | Best Eval Acc: 0.79\n",
      "Epoch 57/200\n"
     ]
    },
    {
     "name": "stderr",
     "output_type": "stream",
     "text": [
      "Training: 100%|██████████| 98/98 [01:58<00:00,  1.21s/it]\n",
      "Evaluating: 100%|██████████| 20/20 [00:08<00:00,  2.25it/s]\n"
     ]
    },
    {
     "name": "stdout",
     "output_type": "stream",
     "text": [
      "Train Loss: 1.4182 | Train Acc: 0.62 | Best Eval Acc: 0.79\n",
      "Epoch 58/200\n"
     ]
    },
    {
     "name": "stderr",
     "output_type": "stream",
     "text": [
      "Training: 100%|██████████| 98/98 [01:58<00:00,  1.21s/it]\n",
      "Evaluating: 100%|██████████| 20/20 [00:08<00:00,  2.31it/s]\n"
     ]
    },
    {
     "name": "stdout",
     "output_type": "stream",
     "text": [
      "Train Loss: 1.4772 | Train Acc: 0.61 | Best Eval Acc: 0.79\n",
      "Epoch 59/200\n"
     ]
    },
    {
     "name": "stderr",
     "output_type": "stream",
     "text": [
      "Training: 100%|██████████| 98/98 [01:58<00:00,  1.21s/it]\n",
      "Evaluating: 100%|██████████| 20/20 [00:08<00:00,  2.29it/s]\n"
     ]
    },
    {
     "name": "stdout",
     "output_type": "stream",
     "text": [
      "Train Loss: 1.4061 | Train Acc: 0.63 | Best Eval Acc: 0.79\n",
      "Epoch 60/200\n"
     ]
    },
    {
     "name": "stderr",
     "output_type": "stream",
     "text": [
      "Training: 100%|██████████| 98/98 [01:58<00:00,  1.21s/it]\n",
      "Evaluating: 100%|██████████| 20/20 [00:08<00:00,  2.31it/s]\n"
     ]
    },
    {
     "name": "stdout",
     "output_type": "stream",
     "text": [
      "Train Loss: 1.3790 | Train Acc: 0.65 | Best Eval Acc: 0.79\n",
      "Epoch 61/200\n"
     ]
    },
    {
     "name": "stderr",
     "output_type": "stream",
     "text": [
      "Training: 100%|██████████| 98/98 [01:58<00:00,  1.21s/it]\n",
      "Evaluating: 100%|██████████| 20/20 [00:08<00:00,  2.27it/s]\n"
     ]
    },
    {
     "name": "stdout",
     "output_type": "stream",
     "text": [
      "Train Loss: 1.3667 | Train Acc: 0.66 | Best Eval Acc: 0.79\n",
      "Epoch 62/200\n"
     ]
    },
    {
     "name": "stderr",
     "output_type": "stream",
     "text": [
      "Training: 100%|██████████| 98/98 [01:58<00:00,  1.21s/it]\n",
      "Evaluating: 100%|██████████| 20/20 [00:08<00:00,  2.27it/s]\n"
     ]
    },
    {
     "name": "stdout",
     "output_type": "stream",
     "text": [
      "Train Loss: 1.4218 | Train Acc: 0.63 | Best Eval Acc: 0.79\n",
      "Epoch 63/200\n"
     ]
    },
    {
     "name": "stderr",
     "output_type": "stream",
     "text": [
      "Training: 100%|██████████| 98/98 [01:58<00:00,  1.21s/it]\n",
      "Evaluating: 100%|██████████| 20/20 [00:08<00:00,  2.29it/s]\n"
     ]
    },
    {
     "name": "stdout",
     "output_type": "stream",
     "text": [
      "Saving model...\n",
      "Train Loss: 1.3826 | Train Acc: 0.64 | Best Eval Acc: 0.79\n",
      "Epoch 64/200\n"
     ]
    },
    {
     "name": "stderr",
     "output_type": "stream",
     "text": [
      "Training: 100%|██████████| 98/98 [01:58<00:00,  1.21s/it]\n",
      "Evaluating: 100%|██████████| 20/20 [00:08<00:00,  2.23it/s]\n"
     ]
    },
    {
     "name": "stdout",
     "output_type": "stream",
     "text": [
      "Train Loss: 1.4006 | Train Acc: 0.65 | Best Eval Acc: 0.79\n",
      "Epoch 65/200\n"
     ]
    },
    {
     "name": "stderr",
     "output_type": "stream",
     "text": [
      "Training: 100%|██████████| 98/98 [01:58<00:00,  1.21s/it]\n",
      "Evaluating: 100%|██████████| 20/20 [00:08<00:00,  2.29it/s]\n"
     ]
    },
    {
     "name": "stdout",
     "output_type": "stream",
     "text": [
      "Saving model...\n",
      "Train Loss: 1.3554 | Train Acc: 0.66 | Best Eval Acc: 0.81\n",
      "Epoch 66/200\n"
     ]
    },
    {
     "name": "stderr",
     "output_type": "stream",
     "text": [
      "Training: 100%|██████████| 98/98 [01:58<00:00,  1.21s/it]\n",
      "Evaluating: 100%|██████████| 20/20 [00:08<00:00,  2.26it/s]\n"
     ]
    },
    {
     "name": "stdout",
     "output_type": "stream",
     "text": [
      "Train Loss: 1.4038 | Train Acc: 0.64 | Best Eval Acc: 0.81\n",
      "Epoch 67/200\n"
     ]
    },
    {
     "name": "stderr",
     "output_type": "stream",
     "text": [
      "Training: 100%|██████████| 98/98 [01:58<00:00,  1.21s/it]\n",
      "Evaluating: 100%|██████████| 20/20 [00:08<00:00,  2.30it/s]\n"
     ]
    },
    {
     "name": "stdout",
     "output_type": "stream",
     "text": [
      "Train Loss: 1.3505 | Train Acc: 0.66 | Best Eval Acc: 0.81\n",
      "Epoch 68/200\n"
     ]
    },
    {
     "name": "stderr",
     "output_type": "stream",
     "text": [
      "Training: 100%|██████████| 98/98 [01:58<00:00,  1.21s/it]\n",
      "Evaluating: 100%|██████████| 20/20 [00:08<00:00,  2.25it/s]\n"
     ]
    },
    {
     "name": "stdout",
     "output_type": "stream",
     "text": [
      "Saving model...\n",
      "Train Loss: 1.3684 | Train Acc: 0.66 | Best Eval Acc: 0.81\n",
      "Epoch 69/200\n"
     ]
    },
    {
     "name": "stderr",
     "output_type": "stream",
     "text": [
      "Training: 100%|██████████| 98/98 [01:58<00:00,  1.21s/it]\n",
      "Evaluating: 100%|██████████| 20/20 [00:08<00:00,  2.29it/s]\n"
     ]
    },
    {
     "name": "stdout",
     "output_type": "stream",
     "text": [
      "Saving model...\n",
      "Train Loss: 1.3218 | Train Acc: 0.69 | Best Eval Acc: 0.81\n",
      "Epoch 70/200\n"
     ]
    },
    {
     "name": "stderr",
     "output_type": "stream",
     "text": [
      "Training: 100%|██████████| 98/98 [01:58<00:00,  1.21s/it]\n",
      "Evaluating: 100%|██████████| 20/20 [00:08<00:00,  2.29it/s]\n"
     ]
    },
    {
     "name": "stdout",
     "output_type": "stream",
     "text": [
      "Saving model...\n",
      "Train Loss: 1.3938 | Train Acc: 0.65 | Best Eval Acc: 0.82\n",
      "Epoch 71/200\n"
     ]
    },
    {
     "name": "stderr",
     "output_type": "stream",
     "text": [
      "Training: 100%|██████████| 98/98 [01:58<00:00,  1.21s/it]\n",
      "Evaluating: 100%|██████████| 20/20 [00:08<00:00,  2.27it/s]\n"
     ]
    },
    {
     "name": "stdout",
     "output_type": "stream",
     "text": [
      "Train Loss: 1.3345 | Train Acc: 0.66 | Best Eval Acc: 0.82\n",
      "Epoch 72/200\n"
     ]
    },
    {
     "name": "stderr",
     "output_type": "stream",
     "text": [
      "Training: 100%|██████████| 98/98 [01:58<00:00,  1.21s/it]\n",
      "Evaluating: 100%|██████████| 20/20 [00:08<00:00,  2.29it/s]\n"
     ]
    },
    {
     "name": "stdout",
     "output_type": "stream",
     "text": [
      "Train Loss: 1.3910 | Train Acc: 0.66 | Best Eval Acc: 0.82\n",
      "Epoch 73/200\n"
     ]
    },
    {
     "name": "stderr",
     "output_type": "stream",
     "text": [
      "Training: 100%|██████████| 98/98 [01:58<00:00,  1.21s/it]\n",
      "Evaluating: 100%|██████████| 20/20 [00:08<00:00,  2.28it/s]\n"
     ]
    },
    {
     "name": "stdout",
     "output_type": "stream",
     "text": [
      "Train Loss: 1.3419 | Train Acc: 0.67 | Best Eval Acc: 0.82\n",
      "Epoch 74/200\n"
     ]
    },
    {
     "name": "stderr",
     "output_type": "stream",
     "text": [
      "Training: 100%|██████████| 98/98 [01:58<00:00,  1.21s/it]\n",
      "Evaluating: 100%|██████████| 20/20 [00:08<00:00,  2.27it/s]\n"
     ]
    },
    {
     "name": "stdout",
     "output_type": "stream",
     "text": [
      "Saving model...\n",
      "Train Loss: 1.3056 | Train Acc: 0.68 | Best Eval Acc: 0.82\n",
      "Epoch 75/200\n"
     ]
    },
    {
     "name": "stderr",
     "output_type": "stream",
     "text": [
      "Training: 100%|██████████| 98/98 [01:58<00:00,  1.21s/it]\n",
      "Evaluating: 100%|██████████| 20/20 [00:08<00:00,  2.30it/s]\n"
     ]
    },
    {
     "name": "stdout",
     "output_type": "stream",
     "text": [
      "Saving model...\n",
      "Train Loss: 1.2964 | Train Acc: 0.70 | Best Eval Acc: 0.83\n",
      "Epoch 76/200\n"
     ]
    },
    {
     "name": "stderr",
     "output_type": "stream",
     "text": [
      "Training: 100%|██████████| 98/98 [01:58<00:00,  1.21s/it]\n",
      "Evaluating: 100%|██████████| 20/20 [00:08<00:00,  2.28it/s]\n"
     ]
    },
    {
     "name": "stdout",
     "output_type": "stream",
     "text": [
      "Train Loss: 1.3321 | Train Acc: 0.67 | Best Eval Acc: 0.83\n",
      "Epoch 77/200\n"
     ]
    },
    {
     "name": "stderr",
     "output_type": "stream",
     "text": [
      "Training: 100%|██████████| 98/98 [01:58<00:00,  1.21s/it]\n",
      "Evaluating: 100%|██████████| 20/20 [00:08<00:00,  2.31it/s]\n"
     ]
    },
    {
     "name": "stdout",
     "output_type": "stream",
     "text": [
      "Train Loss: 1.3791 | Train Acc: 0.66 | Best Eval Acc: 0.83\n",
      "Epoch 78/200\n"
     ]
    },
    {
     "name": "stderr",
     "output_type": "stream",
     "text": [
      "Training: 100%|██████████| 98/98 [01:58<00:00,  1.21s/it]\n",
      "Evaluating: 100%|██████████| 20/20 [00:08<00:00,  2.27it/s]\n"
     ]
    },
    {
     "name": "stdout",
     "output_type": "stream",
     "text": [
      "Train Loss: 1.3188 | Train Acc: 0.69 | Best Eval Acc: 0.83\n",
      "Epoch 79/200\n"
     ]
    },
    {
     "name": "stderr",
     "output_type": "stream",
     "text": [
      "Training: 100%|██████████| 98/98 [01:58<00:00,  1.21s/it]\n",
      "Evaluating: 100%|██████████| 20/20 [00:08<00:00,  2.29it/s]\n"
     ]
    },
    {
     "name": "stdout",
     "output_type": "stream",
     "text": [
      "Train Loss: 1.2432 | Train Acc: 0.72 | Best Eval Acc: 0.83\n",
      "Epoch 80/200\n"
     ]
    },
    {
     "name": "stderr",
     "output_type": "stream",
     "text": [
      "Training: 100%|██████████| 98/98 [01:58<00:00,  1.21s/it]\n",
      "Evaluating: 100%|██████████| 20/20 [00:08<00:00,  2.29it/s]\n"
     ]
    },
    {
     "name": "stdout",
     "output_type": "stream",
     "text": [
      "Saving model...\n",
      "Train Loss: 1.2981 | Train Acc: 0.68 | Best Eval Acc: 0.84\n",
      "Epoch 81/200\n"
     ]
    },
    {
     "name": "stderr",
     "output_type": "stream",
     "text": [
      "Training: 100%|██████████| 98/98 [01:58<00:00,  1.21s/it]\n",
      "Evaluating: 100%|██████████| 20/20 [00:08<00:00,  2.30it/s]\n"
     ]
    },
    {
     "name": "stdout",
     "output_type": "stream",
     "text": [
      "Train Loss: 1.3406 | Train Acc: 0.67 | Best Eval Acc: 0.84\n",
      "Epoch 82/200\n"
     ]
    },
    {
     "name": "stderr",
     "output_type": "stream",
     "text": [
      "Training: 100%|██████████| 98/98 [01:58<00:00,  1.21s/it]\n",
      "Evaluating: 100%|██████████| 20/20 [00:08<00:00,  2.30it/s]\n"
     ]
    },
    {
     "name": "stdout",
     "output_type": "stream",
     "text": [
      "Train Loss: 1.2717 | Train Acc: 0.71 | Best Eval Acc: 0.84\n",
      "Epoch 83/200\n"
     ]
    },
    {
     "name": "stderr",
     "output_type": "stream",
     "text": [
      "Training: 100%|██████████| 98/98 [01:58<00:00,  1.21s/it]\n",
      "Evaluating: 100%|██████████| 20/20 [00:08<00:00,  2.29it/s]\n"
     ]
    },
    {
     "name": "stdout",
     "output_type": "stream",
     "text": [
      "Train Loss: 1.2502 | Train Acc: 0.71 | Best Eval Acc: 0.84\n",
      "Epoch 84/200\n"
     ]
    },
    {
     "name": "stderr",
     "output_type": "stream",
     "text": [
      "Training: 100%|██████████| 98/98 [01:58<00:00,  1.21s/it]\n",
      "Evaluating: 100%|██████████| 20/20 [00:08<00:00,  2.28it/s]\n"
     ]
    },
    {
     "name": "stdout",
     "output_type": "stream",
     "text": [
      "Train Loss: 1.3170 | Train Acc: 0.70 | Best Eval Acc: 0.84\n",
      "Epoch 85/200\n"
     ]
    },
    {
     "name": "stderr",
     "output_type": "stream",
     "text": [
      "Training: 100%|██████████| 98/98 [01:58<00:00,  1.21s/it]\n",
      "Evaluating: 100%|██████████| 20/20 [00:08<00:00,  2.28it/s]\n"
     ]
    },
    {
     "name": "stdout",
     "output_type": "stream",
     "text": [
      "Train Loss: 1.2882 | Train Acc: 0.70 | Best Eval Acc: 0.84\n",
      "Epoch 86/200\n"
     ]
    },
    {
     "name": "stderr",
     "output_type": "stream",
     "text": [
      "Training: 100%|██████████| 98/98 [01:58<00:00,  1.21s/it]\n",
      "Evaluating: 100%|██████████| 20/20 [00:08<00:00,  2.29it/s]\n"
     ]
    },
    {
     "name": "stdout",
     "output_type": "stream",
     "text": [
      "Train Loss: 1.3109 | Train Acc: 0.69 | Best Eval Acc: 0.84\n",
      "Epoch 87/200\n"
     ]
    },
    {
     "name": "stderr",
     "output_type": "stream",
     "text": [
      "Training: 100%|██████████| 98/98 [01:58<00:00,  1.21s/it]\n",
      "Evaluating: 100%|██████████| 20/20 [00:08<00:00,  2.28it/s]\n"
     ]
    },
    {
     "name": "stdout",
     "output_type": "stream",
     "text": [
      "Saving model...\n",
      "Train Loss: 1.2808 | Train Acc: 0.70 | Best Eval Acc: 0.85\n",
      "Epoch 88/200\n"
     ]
    },
    {
     "name": "stderr",
     "output_type": "stream",
     "text": [
      "Training: 100%|██████████| 98/98 [01:58<00:00,  1.21s/it]\n",
      "Evaluating: 100%|██████████| 20/20 [00:08<00:00,  2.28it/s]\n"
     ]
    },
    {
     "name": "stdout",
     "output_type": "stream",
     "text": [
      "Train Loss: 1.2599 | Train Acc: 0.70 | Best Eval Acc: 0.85\n",
      "Epoch 89/200\n"
     ]
    },
    {
     "name": "stderr",
     "output_type": "stream",
     "text": [
      "Training: 100%|██████████| 98/98 [01:58<00:00,  1.21s/it]\n",
      "Evaluating: 100%|██████████| 20/20 [00:08<00:00,  2.29it/s]\n"
     ]
    },
    {
     "name": "stdout",
     "output_type": "stream",
     "text": [
      "Train Loss: 1.3038 | Train Acc: 0.68 | Best Eval Acc: 0.85\n",
      "Epoch 90/200\n"
     ]
    },
    {
     "name": "stderr",
     "output_type": "stream",
     "text": [
      "Training: 100%|██████████| 98/98 [01:58<00:00,  1.21s/it]\n",
      "Evaluating: 100%|██████████| 20/20 [00:08<00:00,  2.32it/s]\n"
     ]
    },
    {
     "name": "stdout",
     "output_type": "stream",
     "text": [
      "Saving model...\n",
      "Train Loss: 1.2708 | Train Acc: 0.71 | Best Eval Acc: 0.85\n",
      "Epoch 91/200\n"
     ]
    },
    {
     "name": "stderr",
     "output_type": "stream",
     "text": [
      "Training: 100%|██████████| 98/98 [01:58<00:00,  1.21s/it]\n",
      "Evaluating: 100%|██████████| 20/20 [00:08<00:00,  2.26it/s]\n"
     ]
    },
    {
     "name": "stdout",
     "output_type": "stream",
     "text": [
      "Train Loss: 1.2658 | Train Acc: 0.72 | Best Eval Acc: 0.85\n",
      "Epoch 92/200\n"
     ]
    },
    {
     "name": "stderr",
     "output_type": "stream",
     "text": [
      "Training: 100%|██████████| 98/98 [01:58<00:00,  1.21s/it]\n",
      "Evaluating: 100%|██████████| 20/20 [00:08<00:00,  2.30it/s]\n"
     ]
    },
    {
     "name": "stdout",
     "output_type": "stream",
     "text": [
      "Train Loss: 1.2962 | Train Acc: 0.71 | Best Eval Acc: 0.85\n",
      "Epoch 93/200\n"
     ]
    },
    {
     "name": "stderr",
     "output_type": "stream",
     "text": [
      "Training: 100%|██████████| 98/98 [01:58<00:00,  1.21s/it]\n",
      "Evaluating: 100%|██████████| 20/20 [00:08<00:00,  2.29it/s]\n"
     ]
    },
    {
     "name": "stdout",
     "output_type": "stream",
     "text": [
      "Train Loss: 1.2870 | Train Acc: 0.69 | Best Eval Acc: 0.85\n",
      "Epoch 94/200\n"
     ]
    },
    {
     "name": "stderr",
     "output_type": "stream",
     "text": [
      "Training: 100%|██████████| 98/98 [01:58<00:00,  1.21s/it]\n",
      "Evaluating: 100%|██████████| 20/20 [00:08<00:00,  2.28it/s]\n"
     ]
    },
    {
     "name": "stdout",
     "output_type": "stream",
     "text": [
      "Saving model...\n",
      "Train Loss: 1.2661 | Train Acc: 0.69 | Best Eval Acc: 0.85\n",
      "Epoch 95/200\n"
     ]
    },
    {
     "name": "stderr",
     "output_type": "stream",
     "text": [
      "Training: 100%|██████████| 98/98 [01:58<00:00,  1.21s/it]\n",
      "Evaluating: 100%|██████████| 20/20 [00:08<00:00,  2.28it/s]\n"
     ]
    },
    {
     "name": "stdout",
     "output_type": "stream",
     "text": [
      "Train Loss: 1.2572 | Train Acc: 0.70 | Best Eval Acc: 0.85\n",
      "Epoch 96/200\n"
     ]
    },
    {
     "name": "stderr",
     "output_type": "stream",
     "text": [
      "Training: 100%|██████████| 98/98 [01:58<00:00,  1.21s/it]\n",
      "Evaluating: 100%|██████████| 20/20 [00:08<00:00,  2.27it/s]\n"
     ]
    },
    {
     "name": "stdout",
     "output_type": "stream",
     "text": [
      "Saving model...\n",
      "Train Loss: 1.2432 | Train Acc: 0.71 | Best Eval Acc: 0.86\n",
      "Epoch 97/200\n"
     ]
    },
    {
     "name": "stderr",
     "output_type": "stream",
     "text": [
      "Training: 100%|██████████| 98/98 [01:58<00:00,  1.21s/it]\n",
      "Evaluating: 100%|██████████| 20/20 [00:08<00:00,  2.26it/s]\n"
     ]
    },
    {
     "name": "stdout",
     "output_type": "stream",
     "text": [
      "Train Loss: 1.2504 | Train Acc: 0.73 | Best Eval Acc: 0.86\n",
      "Epoch 98/200\n"
     ]
    },
    {
     "name": "stderr",
     "output_type": "stream",
     "text": [
      "Training: 100%|██████████| 98/98 [01:58<00:00,  1.21s/it]\n",
      "Evaluating: 100%|██████████| 20/20 [00:08<00:00,  2.29it/s]\n"
     ]
    },
    {
     "name": "stdout",
     "output_type": "stream",
     "text": [
      "Saving model...\n",
      "Train Loss: 1.2374 | Train Acc: 0.72 | Best Eval Acc: 0.86\n",
      "Epoch 99/200\n"
     ]
    },
    {
     "name": "stderr",
     "output_type": "stream",
     "text": [
      "Training: 100%|██████████| 98/98 [01:58<00:00,  1.21s/it]\n",
      "Evaluating: 100%|██████████| 20/20 [00:08<00:00,  2.30it/s]\n"
     ]
    },
    {
     "name": "stdout",
     "output_type": "stream",
     "text": [
      "Train Loss: 1.2370 | Train Acc: 0.72 | Best Eval Acc: 0.86\n",
      "Epoch 100/200\n"
     ]
    },
    {
     "name": "stderr",
     "output_type": "stream",
     "text": [
      "Training: 100%|██████████| 98/98 [01:58<00:00,  1.21s/it]\n",
      "Evaluating: 100%|██████████| 20/20 [00:08<00:00,  2.27it/s]\n"
     ]
    },
    {
     "name": "stdout",
     "output_type": "stream",
     "text": [
      "Train Loss: 1.1922 | Train Acc: 0.74 | Best Eval Acc: 0.86\n",
      "Epoch 101/200\n"
     ]
    },
    {
     "name": "stderr",
     "output_type": "stream",
     "text": [
      "Training: 100%|██████████| 98/98 [01:58<00:00,  1.21s/it]\n",
      "Evaluating: 100%|██████████| 20/20 [00:08<00:00,  2.31it/s]\n"
     ]
    },
    {
     "name": "stdout",
     "output_type": "stream",
     "text": [
      "Train Loss: 1.2754 | Train Acc: 0.69 | Best Eval Acc: 0.86\n",
      "Epoch 102/200\n"
     ]
    },
    {
     "name": "stderr",
     "output_type": "stream",
     "text": [
      "Training: 100%|██████████| 98/98 [01:58<00:00,  1.21s/it]\n",
      "Evaluating: 100%|██████████| 20/20 [00:08<00:00,  2.30it/s]\n"
     ]
    },
    {
     "name": "stdout",
     "output_type": "stream",
     "text": [
      "Train Loss: 1.2793 | Train Acc: 0.70 | Best Eval Acc: 0.86\n",
      "Epoch 103/200\n"
     ]
    },
    {
     "name": "stderr",
     "output_type": "stream",
     "text": [
      "Training: 100%|██████████| 98/98 [01:58<00:00,  1.21s/it]\n",
      "Evaluating: 100%|██████████| 20/20 [00:08<00:00,  2.27it/s]\n"
     ]
    },
    {
     "name": "stdout",
     "output_type": "stream",
     "text": [
      "Saving model...\n",
      "Train Loss: 1.2121 | Train Acc: 0.72 | Best Eval Acc: 0.87\n",
      "Epoch 104/200\n"
     ]
    },
    {
     "name": "stderr",
     "output_type": "stream",
     "text": [
      "Training: 100%|██████████| 98/98 [01:58<00:00,  1.21s/it]\n",
      "Evaluating: 100%|██████████| 20/20 [00:08<00:00,  2.29it/s]\n"
     ]
    },
    {
     "name": "stdout",
     "output_type": "stream",
     "text": [
      "Train Loss: 1.1819 | Train Acc: 0.74 | Best Eval Acc: 0.87\n",
      "Epoch 105/200\n"
     ]
    },
    {
     "name": "stderr",
     "output_type": "stream",
     "text": [
      "Training: 100%|██████████| 98/98 [01:58<00:00,  1.21s/it]\n",
      "Evaluating: 100%|██████████| 20/20 [00:08<00:00,  2.31it/s]\n"
     ]
    },
    {
     "name": "stdout",
     "output_type": "stream",
     "text": [
      "Train Loss: 1.1932 | Train Acc: 0.75 | Best Eval Acc: 0.87\n",
      "Epoch 106/200\n"
     ]
    },
    {
     "name": "stderr",
     "output_type": "stream",
     "text": [
      "Training: 100%|██████████| 98/98 [01:58<00:00,  1.21s/it]\n",
      "Evaluating: 100%|██████████| 20/20 [00:08<00:00,  2.26it/s]\n"
     ]
    },
    {
     "name": "stdout",
     "output_type": "stream",
     "text": [
      "Train Loss: 1.1920 | Train Acc: 0.74 | Best Eval Acc: 0.87\n",
      "Epoch 107/200\n"
     ]
    },
    {
     "name": "stderr",
     "output_type": "stream",
     "text": [
      "Training: 100%|██████████| 98/98 [01:58<00:00,  1.21s/it]\n",
      "Evaluating: 100%|██████████| 20/20 [00:08<00:00,  2.30it/s]\n"
     ]
    },
    {
     "name": "stdout",
     "output_type": "stream",
     "text": [
      "Saving model...\n",
      "Train Loss: 1.2077 | Train Acc: 0.73 | Best Eval Acc: 0.87\n",
      "Epoch 108/200\n"
     ]
    },
    {
     "name": "stderr",
     "output_type": "stream",
     "text": [
      "Training: 100%|██████████| 98/98 [01:58<00:00,  1.21s/it]\n",
      "Evaluating: 100%|██████████| 20/20 [00:08<00:00,  2.30it/s]\n"
     ]
    },
    {
     "name": "stdout",
     "output_type": "stream",
     "text": [
      "Train Loss: 1.1991 | Train Acc: 0.74 | Best Eval Acc: 0.87\n",
      "Epoch 109/200\n"
     ]
    },
    {
     "name": "stderr",
     "output_type": "stream",
     "text": [
      "Training: 100%|██████████| 98/98 [01:58<00:00,  1.21s/it]\n",
      "Evaluating: 100%|██████████| 20/20 [00:08<00:00,  2.29it/s]\n"
     ]
    },
    {
     "name": "stdout",
     "output_type": "stream",
     "text": [
      "Train Loss: 1.2368 | Train Acc: 0.72 | Best Eval Acc: 0.87\n",
      "Epoch 110/200\n"
     ]
    },
    {
     "name": "stderr",
     "output_type": "stream",
     "text": [
      "Training: 100%|██████████| 98/98 [01:58<00:00,  1.21s/it]\n",
      "Evaluating: 100%|██████████| 20/20 [00:08<00:00,  2.29it/s]\n"
     ]
    },
    {
     "name": "stdout",
     "output_type": "stream",
     "text": [
      "Train Loss: 1.2202 | Train Acc: 0.73 | Best Eval Acc: 0.87\n",
      "Epoch 111/200\n"
     ]
    },
    {
     "name": "stderr",
     "output_type": "stream",
     "text": [
      "Training: 100%|██████████| 98/98 [01:58<00:00,  1.21s/it]\n",
      "Evaluating: 100%|██████████| 20/20 [00:08<00:00,  2.28it/s]\n"
     ]
    },
    {
     "name": "stdout",
     "output_type": "stream",
     "text": [
      "Train Loss: 1.2123 | Train Acc: 0.72 | Best Eval Acc: 0.87\n",
      "Epoch 112/200\n"
     ]
    },
    {
     "name": "stderr",
     "output_type": "stream",
     "text": [
      "Training: 100%|██████████| 98/98 [01:58<00:00,  1.21s/it]\n",
      "Evaluating: 100%|██████████| 20/20 [00:08<00:00,  2.30it/s]\n"
     ]
    },
    {
     "name": "stdout",
     "output_type": "stream",
     "text": [
      "Saving model...\n",
      "Train Loss: 1.2444 | Train Acc: 0.73 | Best Eval Acc: 0.88\n",
      "Epoch 113/200\n"
     ]
    },
    {
     "name": "stderr",
     "output_type": "stream",
     "text": [
      "Training: 100%|██████████| 98/98 [01:58<00:00,  1.21s/it]\n",
      "Evaluating: 100%|██████████| 20/20 [00:08<00:00,  2.31it/s]\n"
     ]
    },
    {
     "name": "stdout",
     "output_type": "stream",
     "text": [
      "Train Loss: 1.1948 | Train Acc: 0.73 | Best Eval Acc: 0.88\n",
      "Epoch 114/200\n"
     ]
    },
    {
     "name": "stderr",
     "output_type": "stream",
     "text": [
      "Training: 100%|██████████| 98/98 [01:58<00:00,  1.21s/it]\n",
      "Evaluating: 100%|██████████| 20/20 [00:08<00:00,  2.30it/s]\n"
     ]
    },
    {
     "name": "stdout",
     "output_type": "stream",
     "text": [
      "Train Loss: 1.1854 | Train Acc: 0.75 | Best Eval Acc: 0.88\n",
      "Epoch 115/200\n"
     ]
    },
    {
     "name": "stderr",
     "output_type": "stream",
     "text": [
      "Training: 100%|██████████| 98/98 [01:58<00:00,  1.21s/it]\n",
      "Evaluating: 100%|██████████| 20/20 [00:08<00:00,  2.30it/s]\n"
     ]
    },
    {
     "name": "stdout",
     "output_type": "stream",
     "text": [
      "Train Loss: 1.1857 | Train Acc: 0.74 | Best Eval Acc: 0.88\n",
      "Epoch 116/200\n"
     ]
    },
    {
     "name": "stderr",
     "output_type": "stream",
     "text": [
      "Training: 100%|██████████| 98/98 [01:58<00:00,  1.21s/it]\n",
      "Evaluating: 100%|██████████| 20/20 [00:08<00:00,  2.27it/s]\n"
     ]
    },
    {
     "name": "stdout",
     "output_type": "stream",
     "text": [
      "Train Loss: 1.2413 | Train Acc: 0.71 | Best Eval Acc: 0.88\n",
      "Epoch 117/200\n"
     ]
    },
    {
     "name": "stderr",
     "output_type": "stream",
     "text": [
      "Training: 100%|██████████| 98/98 [01:58<00:00,  1.21s/it]\n",
      "Evaluating: 100%|██████████| 20/20 [00:08<00:00,  2.25it/s]\n"
     ]
    },
    {
     "name": "stdout",
     "output_type": "stream",
     "text": [
      "Saving model...\n",
      "Train Loss: 1.1847 | Train Acc: 0.73 | Best Eval Acc: 0.88\n",
      "Epoch 118/200\n"
     ]
    },
    {
     "name": "stderr",
     "output_type": "stream",
     "text": [
      "Training: 100%|██████████| 98/98 [01:58<00:00,  1.21s/it]\n",
      "Evaluating: 100%|██████████| 20/20 [00:08<00:00,  2.29it/s]\n"
     ]
    },
    {
     "name": "stdout",
     "output_type": "stream",
     "text": [
      "Train Loss: 1.1457 | Train Acc: 0.76 | Best Eval Acc: 0.88\n",
      "Epoch 119/200\n"
     ]
    },
    {
     "name": "stderr",
     "output_type": "stream",
     "text": [
      "Training: 100%|██████████| 98/98 [01:58<00:00,  1.21s/it]\n",
      "Evaluating: 100%|██████████| 20/20 [00:08<00:00,  2.29it/s]\n"
     ]
    },
    {
     "name": "stdout",
     "output_type": "stream",
     "text": [
      "Train Loss: 1.1596 | Train Acc: 0.74 | Best Eval Acc: 0.88\n",
      "Epoch 120/200\n"
     ]
    },
    {
     "name": "stderr",
     "output_type": "stream",
     "text": [
      "Training: 100%|██████████| 98/98 [01:58<00:00,  1.21s/it]\n",
      "Evaluating: 100%|██████████| 20/20 [00:08<00:00,  2.27it/s]\n"
     ]
    },
    {
     "name": "stdout",
     "output_type": "stream",
     "text": [
      "Train Loss: 1.1474 | Train Acc: 0.75 | Best Eval Acc: 0.88\n",
      "Epoch 121/200\n"
     ]
    },
    {
     "name": "stderr",
     "output_type": "stream",
     "text": [
      "Training: 100%|██████████| 98/98 [01:58<00:00,  1.21s/it]\n",
      "Evaluating: 100%|██████████| 20/20 [00:08<00:00,  2.24it/s]\n"
     ]
    },
    {
     "name": "stdout",
     "output_type": "stream",
     "text": [
      "Saving model...\n",
      "Train Loss: 1.1895 | Train Acc: 0.74 | Best Eval Acc: 0.89\n",
      "Epoch 122/200\n"
     ]
    },
    {
     "name": "stderr",
     "output_type": "stream",
     "text": [
      "Training: 100%|██████████| 98/98 [01:58<00:00,  1.21s/it]\n",
      "Evaluating: 100%|██████████| 20/20 [00:08<00:00,  2.27it/s]\n"
     ]
    },
    {
     "name": "stdout",
     "output_type": "stream",
     "text": [
      "Train Loss: 1.1486 | Train Acc: 0.75 | Best Eval Acc: 0.89\n",
      "Epoch 123/200\n"
     ]
    },
    {
     "name": "stderr",
     "output_type": "stream",
     "text": [
      "Training: 100%|██████████| 98/98 [01:58<00:00,  1.21s/it]\n",
      "Evaluating: 100%|██████████| 20/20 [00:08<00:00,  2.24it/s]\n"
     ]
    },
    {
     "name": "stdout",
     "output_type": "stream",
     "text": [
      "Train Loss: 1.1944 | Train Acc: 0.73 | Best Eval Acc: 0.89\n",
      "Epoch 124/200\n"
     ]
    },
    {
     "name": "stderr",
     "output_type": "stream",
     "text": [
      "Training: 100%|██████████| 98/98 [01:58<00:00,  1.21s/it]\n",
      "Evaluating: 100%|██████████| 20/20 [00:08<00:00,  2.25it/s]\n"
     ]
    },
    {
     "name": "stdout",
     "output_type": "stream",
     "text": [
      "Train Loss: 1.1716 | Train Acc: 0.75 | Best Eval Acc: 0.89\n",
      "Epoch 125/200\n"
     ]
    },
    {
     "name": "stderr",
     "output_type": "stream",
     "text": [
      "Training: 100%|██████████| 98/98 [01:58<00:00,  1.21s/it]\n",
      "Evaluating: 100%|██████████| 20/20 [00:08<00:00,  2.30it/s]\n"
     ]
    },
    {
     "name": "stdout",
     "output_type": "stream",
     "text": [
      "Train Loss: 1.2202 | Train Acc: 0.74 | Best Eval Acc: 0.89\n",
      "Epoch 126/200\n"
     ]
    },
    {
     "name": "stderr",
     "output_type": "stream",
     "text": [
      "Training: 100%|██████████| 98/98 [01:58<00:00,  1.21s/it]\n",
      "Evaluating: 100%|██████████| 20/20 [00:08<00:00,  2.28it/s]\n"
     ]
    },
    {
     "name": "stdout",
     "output_type": "stream",
     "text": [
      "Train Loss: 1.1578 | Train Acc: 0.75 | Best Eval Acc: 0.89\n",
      "Epoch 127/200\n"
     ]
    },
    {
     "name": "stderr",
     "output_type": "stream",
     "text": [
      "Training: 100%|██████████| 98/98 [01:58<00:00,  1.21s/it]\n",
      "Evaluating: 100%|██████████| 20/20 [00:08<00:00,  2.28it/s]\n"
     ]
    },
    {
     "name": "stdout",
     "output_type": "stream",
     "text": [
      "Train Loss: 1.1158 | Train Acc: 0.78 | Best Eval Acc: 0.89\n",
      "Epoch 128/200\n"
     ]
    },
    {
     "name": "stderr",
     "output_type": "stream",
     "text": [
      "Training: 100%|██████████| 98/98 [01:58<00:00,  1.21s/it]\n",
      "Evaluating: 100%|██████████| 20/20 [00:08<00:00,  2.30it/s]\n"
     ]
    },
    {
     "name": "stdout",
     "output_type": "stream",
     "text": [
      "Train Loss: 1.0813 | Train Acc: 0.77 | Best Eval Acc: 0.89\n",
      "Epoch 129/200\n"
     ]
    },
    {
     "name": "stderr",
     "output_type": "stream",
     "text": [
      "Training: 100%|██████████| 98/98 [01:58<00:00,  1.21s/it]\n",
      "Evaluating: 100%|██████████| 20/20 [00:08<00:00,  2.26it/s]\n"
     ]
    },
    {
     "name": "stdout",
     "output_type": "stream",
     "text": [
      "Train Loss: 1.2133 | Train Acc: 0.73 | Best Eval Acc: 0.89\n",
      "Epoch 130/200\n"
     ]
    },
    {
     "name": "stderr",
     "output_type": "stream",
     "text": [
      "Training: 100%|██████████| 98/98 [01:58<00:00,  1.21s/it]\n",
      "Evaluating: 100%|██████████| 20/20 [00:08<00:00,  2.29it/s]\n"
     ]
    },
    {
     "name": "stdout",
     "output_type": "stream",
     "text": [
      "Train Loss: 1.1973 | Train Acc: 0.73 | Best Eval Acc: 0.89\n",
      "Epoch 131/200\n"
     ]
    },
    {
     "name": "stderr",
     "output_type": "stream",
     "text": [
      "Training: 100%|██████████| 98/98 [01:58<00:00,  1.21s/it]\n",
      "Evaluating: 100%|██████████| 20/20 [00:08<00:00,  2.27it/s]\n"
     ]
    },
    {
     "name": "stdout",
     "output_type": "stream",
     "text": [
      "Train Loss: 1.1546 | Train Acc: 0.75 | Best Eval Acc: 0.89\n",
      "Epoch 132/200\n"
     ]
    },
    {
     "name": "stderr",
     "output_type": "stream",
     "text": [
      "Training: 100%|██████████| 98/98 [01:58<00:00,  1.21s/it]\n",
      "Evaluating: 100%|██████████| 20/20 [00:08<00:00,  2.28it/s]\n"
     ]
    },
    {
     "name": "stdout",
     "output_type": "stream",
     "text": [
      "Train Loss: 1.2063 | Train Acc: 0.74 | Best Eval Acc: 0.89\n",
      "Epoch 133/200\n"
     ]
    },
    {
     "name": "stderr",
     "output_type": "stream",
     "text": [
      "Training: 100%|██████████| 98/98 [01:58<00:00,  1.21s/it]\n",
      "Evaluating: 100%|██████████| 20/20 [00:08<00:00,  2.25it/s]\n"
     ]
    },
    {
     "name": "stdout",
     "output_type": "stream",
     "text": [
      "Train Loss: 1.0960 | Train Acc: 0.77 | Best Eval Acc: 0.89\n",
      "Epoch 134/200\n"
     ]
    },
    {
     "name": "stderr",
     "output_type": "stream",
     "text": [
      "Training: 100%|██████████| 98/98 [01:58<00:00,  1.21s/it]\n",
      "Evaluating: 100%|██████████| 20/20 [00:09<00:00,  2.22it/s]\n"
     ]
    },
    {
     "name": "stdout",
     "output_type": "stream",
     "text": [
      "Train Loss: 1.1458 | Train Acc: 0.76 | Best Eval Acc: 0.89\n",
      "Epoch 135/200\n"
     ]
    },
    {
     "name": "stderr",
     "output_type": "stream",
     "text": [
      "Training: 100%|██████████| 98/98 [01:58<00:00,  1.21s/it]\n",
      "Evaluating: 100%|██████████| 20/20 [00:08<00:00,  2.24it/s]\n"
     ]
    },
    {
     "name": "stdout",
     "output_type": "stream",
     "text": [
      "Saving model...\n",
      "Train Loss: 1.1843 | Train Acc: 0.75 | Best Eval Acc: 0.89\n",
      "Epoch 136/200\n"
     ]
    },
    {
     "name": "stderr",
     "output_type": "stream",
     "text": [
      "Training: 100%|██████████| 98/98 [01:58<00:00,  1.21s/it]\n",
      "Evaluating: 100%|██████████| 20/20 [00:08<00:00,  2.27it/s]\n"
     ]
    },
    {
     "name": "stdout",
     "output_type": "stream",
     "text": [
      "Saving model...\n",
      "Train Loss: 1.1498 | Train Acc: 0.75 | Best Eval Acc: 0.89\n",
      "Epoch 137/200\n"
     ]
    },
    {
     "name": "stderr",
     "output_type": "stream",
     "text": [
      "Training: 100%|██████████| 98/98 [01:58<00:00,  1.21s/it]\n",
      "Evaluating: 100%|██████████| 20/20 [00:08<00:00,  2.28it/s]\n"
     ]
    },
    {
     "name": "stdout",
     "output_type": "stream",
     "text": [
      "Train Loss: 1.0717 | Train Acc: 0.78 | Best Eval Acc: 0.89\n",
      "Epoch 138/200\n"
     ]
    },
    {
     "name": "stderr",
     "output_type": "stream",
     "text": [
      "Training: 100%|██████████| 98/98 [01:58<00:00,  1.21s/it]\n",
      "Evaluating: 100%|██████████| 20/20 [00:08<00:00,  2.27it/s]\n"
     ]
    },
    {
     "name": "stdout",
     "output_type": "stream",
     "text": [
      "Train Loss: 1.1489 | Train Acc: 0.77 | Best Eval Acc: 0.89\n",
      "Epoch 139/200\n"
     ]
    },
    {
     "name": "stderr",
     "output_type": "stream",
     "text": [
      "Training: 100%|██████████| 98/98 [01:58<00:00,  1.21s/it]\n",
      "Evaluating: 100%|██████████| 20/20 [00:08<00:00,  2.30it/s]\n"
     ]
    },
    {
     "name": "stdout",
     "output_type": "stream",
     "text": [
      "Train Loss: 1.1697 | Train Acc: 0.74 | Best Eval Acc: 0.89\n",
      "Epoch 140/200\n"
     ]
    },
    {
     "name": "stderr",
     "output_type": "stream",
     "text": [
      "Training: 100%|██████████| 98/98 [01:58<00:00,  1.21s/it]\n",
      "Evaluating: 100%|██████████| 20/20 [00:08<00:00,  2.28it/s]\n"
     ]
    },
    {
     "name": "stdout",
     "output_type": "stream",
     "text": [
      "Train Loss: 1.1022 | Train Acc: 0.77 | Best Eval Acc: 0.89\n",
      "Epoch 141/200\n"
     ]
    },
    {
     "name": "stderr",
     "output_type": "stream",
     "text": [
      "Training: 100%|██████████| 98/98 [01:58<00:00,  1.21s/it]\n",
      "Evaluating: 100%|██████████| 20/20 [00:08<00:00,  2.27it/s]\n"
     ]
    },
    {
     "name": "stdout",
     "output_type": "stream",
     "text": [
      "Saving model...\n",
      "Train Loss: 1.1013 | Train Acc: 0.77 | Best Eval Acc: 0.90\n",
      "Epoch 142/200\n"
     ]
    },
    {
     "name": "stderr",
     "output_type": "stream",
     "text": [
      "Training: 100%|██████████| 98/98 [01:58<00:00,  1.21s/it]\n",
      "Evaluating: 100%|██████████| 20/20 [00:08<00:00,  2.29it/s]\n"
     ]
    },
    {
     "name": "stdout",
     "output_type": "stream",
     "text": [
      "Saving model...\n",
      "Train Loss: 1.1475 | Train Acc: 0.76 | Best Eval Acc: 0.90\n",
      "Epoch 143/200\n"
     ]
    },
    {
     "name": "stderr",
     "output_type": "stream",
     "text": [
      "Training: 100%|██████████| 98/98 [01:58<00:00,  1.21s/it]\n",
      "Evaluating: 100%|██████████| 20/20 [00:08<00:00,  2.27it/s]\n"
     ]
    },
    {
     "name": "stdout",
     "output_type": "stream",
     "text": [
      "Train Loss: 1.0794 | Train Acc: 0.78 | Best Eval Acc: 0.90\n",
      "Epoch 144/200\n"
     ]
    },
    {
     "name": "stderr",
     "output_type": "stream",
     "text": [
      "Training: 100%|██████████| 98/98 [01:58<00:00,  1.21s/it]\n",
      "Evaluating: 100%|██████████| 20/20 [00:08<00:00,  2.28it/s]\n"
     ]
    },
    {
     "name": "stdout",
     "output_type": "stream",
     "text": [
      "Train Loss: 1.1474 | Train Acc: 0.74 | Best Eval Acc: 0.90\n",
      "Epoch 145/200\n"
     ]
    },
    {
     "name": "stderr",
     "output_type": "stream",
     "text": [
      "Training: 100%|██████████| 98/98 [01:58<00:00,  1.21s/it]\n",
      "Evaluating: 100%|██████████| 20/20 [00:08<00:00,  2.28it/s]\n"
     ]
    },
    {
     "name": "stdout",
     "output_type": "stream",
     "text": [
      "Train Loss: 1.1102 | Train Acc: 0.78 | Best Eval Acc: 0.90\n",
      "Epoch 146/200\n"
     ]
    },
    {
     "name": "stderr",
     "output_type": "stream",
     "text": [
      "Training: 100%|██████████| 98/98 [01:58<00:00,  1.21s/it]\n",
      "Evaluating: 100%|██████████| 20/20 [00:08<00:00,  2.25it/s]\n"
     ]
    },
    {
     "name": "stdout",
     "output_type": "stream",
     "text": [
      "Train Loss: 1.1247 | Train Acc: 0.76 | Best Eval Acc: 0.90\n",
      "Epoch 147/200\n"
     ]
    },
    {
     "name": "stderr",
     "output_type": "stream",
     "text": [
      "Training: 100%|██████████| 98/98 [01:58<00:00,  1.21s/it]\n",
      "Evaluating: 100%|██████████| 20/20 [00:08<00:00,  2.29it/s]\n"
     ]
    },
    {
     "name": "stdout",
     "output_type": "stream",
     "text": [
      "Saving model...\n",
      "Train Loss: 1.0497 | Train Acc: 0.78 | Best Eval Acc: 0.90\n",
      "Epoch 148/200\n"
     ]
    },
    {
     "name": "stderr",
     "output_type": "stream",
     "text": [
      "Training: 100%|██████████| 98/98 [01:58<00:00,  1.21s/it]\n",
      "Evaluating: 100%|██████████| 20/20 [00:08<00:00,  2.30it/s]\n"
     ]
    },
    {
     "name": "stdout",
     "output_type": "stream",
     "text": [
      "Train Loss: 1.1169 | Train Acc: 0.78 | Best Eval Acc: 0.90\n",
      "Epoch 149/200\n"
     ]
    },
    {
     "name": "stderr",
     "output_type": "stream",
     "text": [
      "Training: 100%|██████████| 98/98 [01:58<00:00,  1.21s/it]\n",
      "Evaluating: 100%|██████████| 20/20 [00:08<00:00,  2.24it/s]\n"
     ]
    },
    {
     "name": "stdout",
     "output_type": "stream",
     "text": [
      "Train Loss: 1.0018 | Train Acc: 0.80 | Best Eval Acc: 0.90\n",
      "Epoch 150/200\n"
     ]
    },
    {
     "name": "stderr",
     "output_type": "stream",
     "text": [
      "Training: 100%|██████████| 98/98 [01:58<00:00,  1.21s/it]\n",
      "Evaluating: 100%|██████████| 20/20 [00:08<00:00,  2.29it/s]\n"
     ]
    },
    {
     "name": "stdout",
     "output_type": "stream",
     "text": [
      "Train Loss: 1.1483 | Train Acc: 0.76 | Best Eval Acc: 0.90\n",
      "Epoch 151/200\n"
     ]
    },
    {
     "name": "stderr",
     "output_type": "stream",
     "text": [
      "Training: 100%|██████████| 98/98 [01:58<00:00,  1.21s/it]\n",
      "Evaluating: 100%|██████████| 20/20 [00:08<00:00,  2.28it/s]\n"
     ]
    },
    {
     "name": "stdout",
     "output_type": "stream",
     "text": [
      "Train Loss: 1.0972 | Train Acc: 0.78 | Best Eval Acc: 0.90\n",
      "Epoch 152/200\n"
     ]
    },
    {
     "name": "stderr",
     "output_type": "stream",
     "text": [
      "Training: 100%|██████████| 98/98 [01:58<00:00,  1.21s/it]\n",
      "Evaluating: 100%|██████████| 20/20 [00:08<00:00,  2.27it/s]\n"
     ]
    },
    {
     "name": "stdout",
     "output_type": "stream",
     "text": [
      "Train Loss: 1.1282 | Train Acc: 0.77 | Best Eval Acc: 0.90\n",
      "Epoch 153/200\n"
     ]
    },
    {
     "name": "stderr",
     "output_type": "stream",
     "text": [
      "Training: 100%|██████████| 98/98 [01:58<00:00,  1.21s/it]\n",
      "Evaluating: 100%|██████████| 20/20 [00:08<00:00,  2.29it/s]\n"
     ]
    },
    {
     "name": "stdout",
     "output_type": "stream",
     "text": [
      "Saving model...\n",
      "Train Loss: 1.0985 | Train Acc: 0.79 | Best Eval Acc: 0.90\n",
      "Epoch 154/200\n"
     ]
    },
    {
     "name": "stderr",
     "output_type": "stream",
     "text": [
      "Training: 100%|██████████| 98/98 [01:58<00:00,  1.21s/it]\n",
      "Evaluating: 100%|██████████| 20/20 [00:08<00:00,  2.30it/s]\n"
     ]
    },
    {
     "name": "stdout",
     "output_type": "stream",
     "text": [
      "Train Loss: 1.0897 | Train Acc: 0.76 | Best Eval Acc: 0.90\n",
      "Epoch 155/200\n"
     ]
    },
    {
     "name": "stderr",
     "output_type": "stream",
     "text": [
      "Training: 100%|██████████| 98/98 [01:58<00:00,  1.21s/it]\n",
      "Evaluating: 100%|██████████| 20/20 [00:08<00:00,  2.30it/s]\n"
     ]
    },
    {
     "name": "stdout",
     "output_type": "stream",
     "text": [
      "Train Loss: 1.1118 | Train Acc: 0.77 | Best Eval Acc: 0.90\n",
      "Epoch 156/200\n"
     ]
    },
    {
     "name": "stderr",
     "output_type": "stream",
     "text": [
      "Training: 100%|██████████| 98/98 [01:58<00:00,  1.21s/it]\n",
      "Evaluating: 100%|██████████| 20/20 [00:08<00:00,  2.27it/s]\n"
     ]
    },
    {
     "name": "stdout",
     "output_type": "stream",
     "text": [
      "Train Loss: 1.0627 | Train Acc: 0.80 | Best Eval Acc: 0.90\n",
      "Epoch 157/200\n"
     ]
    },
    {
     "name": "stderr",
     "output_type": "stream",
     "text": [
      "Training: 100%|██████████| 98/98 [01:58<00:00,  1.21s/it]\n",
      "Evaluating: 100%|██████████| 20/20 [00:08<00:00,  2.28it/s]\n"
     ]
    },
    {
     "name": "stdout",
     "output_type": "stream",
     "text": [
      "Train Loss: 1.0667 | Train Acc: 0.79 | Best Eval Acc: 0.90\n",
      "Epoch 158/200\n"
     ]
    },
    {
     "name": "stderr",
     "output_type": "stream",
     "text": [
      "Training: 100%|██████████| 98/98 [01:58<00:00,  1.21s/it]\n",
      "Evaluating: 100%|██████████| 20/20 [00:08<00:00,  2.29it/s]\n"
     ]
    },
    {
     "name": "stdout",
     "output_type": "stream",
     "text": [
      "Train Loss: 1.1262 | Train Acc: 0.78 | Best Eval Acc: 0.90\n",
      "Epoch 159/200\n"
     ]
    },
    {
     "name": "stderr",
     "output_type": "stream",
     "text": [
      "Training: 100%|██████████| 98/98 [01:58<00:00,  1.21s/it]\n",
      "Evaluating: 100%|██████████| 20/20 [00:09<00:00,  2.22it/s]\n"
     ]
    },
    {
     "name": "stdout",
     "output_type": "stream",
     "text": [
      "Saving model...\n",
      "Train Loss: 1.0690 | Train Acc: 0.80 | Best Eval Acc: 0.90\n",
      "Epoch 160/200\n"
     ]
    },
    {
     "name": "stderr",
     "output_type": "stream",
     "text": [
      "Training: 100%|██████████| 98/98 [01:58<00:00,  1.21s/it]\n",
      "Evaluating: 100%|██████████| 20/20 [00:08<00:00,  2.25it/s]\n"
     ]
    },
    {
     "name": "stdout",
     "output_type": "stream",
     "text": [
      "Train Loss: 1.0646 | Train Acc: 0.79 | Best Eval Acc: 0.90\n",
      "Epoch 161/200\n"
     ]
    },
    {
     "name": "stderr",
     "output_type": "stream",
     "text": [
      "Training: 100%|██████████| 98/98 [01:58<00:00,  1.21s/it]\n",
      "Evaluating: 100%|██████████| 20/20 [00:08<00:00,  2.29it/s]\n"
     ]
    },
    {
     "name": "stdout",
     "output_type": "stream",
     "text": [
      "Train Loss: 1.0612 | Train Acc: 0.80 | Best Eval Acc: 0.90\n",
      "Epoch 162/200\n"
     ]
    },
    {
     "name": "stderr",
     "output_type": "stream",
     "text": [
      "Training: 100%|██████████| 98/98 [01:58<00:00,  1.21s/it]\n",
      "Evaluating: 100%|██████████| 20/20 [00:08<00:00,  2.29it/s]\n"
     ]
    },
    {
     "name": "stdout",
     "output_type": "stream",
     "text": [
      "Saving model...\n",
      "Train Loss: 1.0766 | Train Acc: 0.78 | Best Eval Acc: 0.90\n",
      "Epoch 163/200\n"
     ]
    },
    {
     "name": "stderr",
     "output_type": "stream",
     "text": [
      "Training: 100%|██████████| 98/98 [01:58<00:00,  1.21s/it]\n",
      "Evaluating: 100%|██████████| 20/20 [00:08<00:00,  2.29it/s]\n"
     ]
    },
    {
     "name": "stdout",
     "output_type": "stream",
     "text": [
      "Train Loss: 1.0795 | Train Acc: 0.77 | Best Eval Acc: 0.90\n",
      "Epoch 164/200\n"
     ]
    },
    {
     "name": "stderr",
     "output_type": "stream",
     "text": [
      "Training: 100%|██████████| 98/98 [01:58<00:00,  1.21s/it]\n",
      "Evaluating: 100%|██████████| 20/20 [00:08<00:00,  2.28it/s]\n"
     ]
    },
    {
     "name": "stdout",
     "output_type": "stream",
     "text": [
      "Train Loss: 1.0861 | Train Acc: 0.78 | Best Eval Acc: 0.90\n",
      "Epoch 165/200\n"
     ]
    },
    {
     "name": "stderr",
     "output_type": "stream",
     "text": [
      "Training: 100%|██████████| 98/98 [01:58<00:00,  1.21s/it]\n",
      "Evaluating: 100%|██████████| 20/20 [00:08<00:00,  2.28it/s]\n"
     ]
    },
    {
     "name": "stdout",
     "output_type": "stream",
     "text": [
      "Train Loss: 1.1168 | Train Acc: 0.78 | Best Eval Acc: 0.90\n",
      "Epoch 166/200\n"
     ]
    },
    {
     "name": "stderr",
     "output_type": "stream",
     "text": [
      "Training: 100%|██████████| 98/98 [01:58<00:00,  1.21s/it]\n",
      "Evaluating: 100%|██████████| 20/20 [00:08<00:00,  2.27it/s]\n"
     ]
    },
    {
     "name": "stdout",
     "output_type": "stream",
     "text": [
      "Train Loss: 1.0523 | Train Acc: 0.79 | Best Eval Acc: 0.90\n",
      "Epoch 167/200\n"
     ]
    },
    {
     "name": "stderr",
     "output_type": "stream",
     "text": [
      "Training: 100%|██████████| 98/98 [01:58<00:00,  1.21s/it]\n",
      "Evaluating: 100%|██████████| 20/20 [00:08<00:00,  2.29it/s]\n"
     ]
    },
    {
     "name": "stdout",
     "output_type": "stream",
     "text": [
      "Saving model...\n",
      "Train Loss: 1.0454 | Train Acc: 0.81 | Best Eval Acc: 0.91\n",
      "Epoch 168/200\n"
     ]
    },
    {
     "name": "stderr",
     "output_type": "stream",
     "text": [
      "Training: 100%|██████████| 98/98 [01:58<00:00,  1.21s/it]\n",
      "Evaluating: 100%|██████████| 20/20 [00:08<00:00,  2.29it/s]\n"
     ]
    },
    {
     "name": "stdout",
     "output_type": "stream",
     "text": [
      "Train Loss: 1.1340 | Train Acc: 0.78 | Best Eval Acc: 0.91\n",
      "Epoch 169/200\n"
     ]
    },
    {
     "name": "stderr",
     "output_type": "stream",
     "text": [
      "Training: 100%|██████████| 98/98 [01:58<00:00,  1.21s/it]\n",
      "Evaluating: 100%|██████████| 20/20 [00:08<00:00,  2.28it/s]\n"
     ]
    },
    {
     "name": "stdout",
     "output_type": "stream",
     "text": [
      "Train Loss: 1.0679 | Train Acc: 0.80 | Best Eval Acc: 0.91\n",
      "Epoch 170/200\n"
     ]
    },
    {
     "name": "stderr",
     "output_type": "stream",
     "text": [
      "Training: 100%|██████████| 98/98 [01:58<00:00,  1.21s/it]\n",
      "Evaluating: 100%|██████████| 20/20 [00:08<00:00,  2.27it/s]\n"
     ]
    },
    {
     "name": "stdout",
     "output_type": "stream",
     "text": [
      "Saving model...\n",
      "Train Loss: 1.0164 | Train Acc: 0.80 | Best Eval Acc: 0.91\n",
      "Epoch 171/200\n"
     ]
    },
    {
     "name": "stderr",
     "output_type": "stream",
     "text": [
      "Training: 100%|██████████| 98/98 [01:58<00:00,  1.21s/it]\n",
      "Evaluating: 100%|██████████| 20/20 [00:08<00:00,  2.29it/s]\n"
     ]
    },
    {
     "name": "stdout",
     "output_type": "stream",
     "text": [
      "Train Loss: 1.0554 | Train Acc: 0.78 | Best Eval Acc: 0.91\n",
      "Epoch 172/200\n"
     ]
    },
    {
     "name": "stderr",
     "output_type": "stream",
     "text": [
      "Training: 100%|██████████| 98/98 [01:58<00:00,  1.21s/it]\n",
      "Evaluating: 100%|██████████| 20/20 [00:08<00:00,  2.26it/s]\n"
     ]
    },
    {
     "name": "stdout",
     "output_type": "stream",
     "text": [
      "Train Loss: 1.0878 | Train Acc: 0.78 | Best Eval Acc: 0.91\n",
      "Epoch 173/200\n"
     ]
    },
    {
     "name": "stderr",
     "output_type": "stream",
     "text": [
      "Training: 100%|██████████| 98/98 [01:58<00:00,  1.21s/it]\n",
      "Evaluating: 100%|██████████| 20/20 [00:08<00:00,  2.29it/s]\n"
     ]
    },
    {
     "name": "stdout",
     "output_type": "stream",
     "text": [
      "Train Loss: 1.0726 | Train Acc: 0.80 | Best Eval Acc: 0.91\n",
      "Epoch 174/200\n"
     ]
    },
    {
     "name": "stderr",
     "output_type": "stream",
     "text": [
      "Training: 100%|██████████| 98/98 [01:58<00:00,  1.21s/it]\n",
      "Evaluating: 100%|██████████| 20/20 [00:08<00:00,  2.30it/s]\n"
     ]
    },
    {
     "name": "stdout",
     "output_type": "stream",
     "text": [
      "Train Loss: 1.0271 | Train Acc: 0.79 | Best Eval Acc: 0.91\n",
      "Epoch 175/200\n"
     ]
    },
    {
     "name": "stderr",
     "output_type": "stream",
     "text": [
      "Training: 100%|██████████| 98/98 [01:58<00:00,  1.21s/it]\n",
      "Evaluating: 100%|██████████| 20/20 [00:08<00:00,  2.29it/s]\n"
     ]
    },
    {
     "name": "stdout",
     "output_type": "stream",
     "text": [
      "Train Loss: 1.0461 | Train Acc: 0.79 | Best Eval Acc: 0.91\n",
      "Epoch 176/200\n"
     ]
    },
    {
     "name": "stderr",
     "output_type": "stream",
     "text": [
      "Training: 100%|██████████| 98/98 [01:58<00:00,  1.21s/it]\n",
      "Evaluating: 100%|██████████| 20/20 [00:08<00:00,  2.31it/s]\n"
     ]
    },
    {
     "name": "stdout",
     "output_type": "stream",
     "text": [
      "Train Loss: 1.0233 | Train Acc: 0.81 | Best Eval Acc: 0.91\n",
      "Epoch 177/200\n"
     ]
    },
    {
     "name": "stderr",
     "output_type": "stream",
     "text": [
      "Training: 100%|██████████| 98/98 [01:58<00:00,  1.21s/it]\n",
      "Evaluating: 100%|██████████| 20/20 [00:08<00:00,  2.25it/s]\n"
     ]
    },
    {
     "name": "stdout",
     "output_type": "stream",
     "text": [
      "Saving model...\n",
      "Train Loss: 1.0306 | Train Acc: 0.81 | Best Eval Acc: 0.91\n",
      "Epoch 178/200\n"
     ]
    },
    {
     "name": "stderr",
     "output_type": "stream",
     "text": [
      "Training: 100%|██████████| 98/98 [01:58<00:00,  1.21s/it]\n",
      "Evaluating: 100%|██████████| 20/20 [00:08<00:00,  2.29it/s]\n"
     ]
    },
    {
     "name": "stdout",
     "output_type": "stream",
     "text": [
      "Train Loss: 1.0091 | Train Acc: 0.83 | Best Eval Acc: 0.91\n",
      "Epoch 179/200\n"
     ]
    },
    {
     "name": "stderr",
     "output_type": "stream",
     "text": [
      "Training: 100%|██████████| 98/98 [01:58<00:00,  1.21s/it]\n",
      "Evaluating: 100%|██████████| 20/20 [00:08<00:00,  2.29it/s]\n"
     ]
    },
    {
     "name": "stdout",
     "output_type": "stream",
     "text": [
      "Train Loss: 1.0497 | Train Acc: 0.81 | Best Eval Acc: 0.91\n",
      "Epoch 180/200\n"
     ]
    },
    {
     "name": "stderr",
     "output_type": "stream",
     "text": [
      "Training: 100%|██████████| 98/98 [01:58<00:00,  1.21s/it]\n",
      "Evaluating: 100%|██████████| 20/20 [00:08<00:00,  2.28it/s]\n"
     ]
    },
    {
     "name": "stdout",
     "output_type": "stream",
     "text": [
      "Train Loss: 1.0881 | Train Acc: 0.77 | Best Eval Acc: 0.91\n",
      "Epoch 181/200\n"
     ]
    },
    {
     "name": "stderr",
     "output_type": "stream",
     "text": [
      "Training: 100%|██████████| 98/98 [01:58<00:00,  1.21s/it]\n",
      "Evaluating: 100%|██████████| 20/20 [00:08<00:00,  2.29it/s]\n"
     ]
    },
    {
     "name": "stdout",
     "output_type": "stream",
     "text": [
      "Train Loss: 1.0399 | Train Acc: 0.79 | Best Eval Acc: 0.91\n",
      "Epoch 182/200\n"
     ]
    },
    {
     "name": "stderr",
     "output_type": "stream",
     "text": [
      "Training: 100%|██████████| 98/98 [01:58<00:00,  1.21s/it]\n",
      "Evaluating: 100%|██████████| 20/20 [00:08<00:00,  2.28it/s]\n"
     ]
    },
    {
     "name": "stdout",
     "output_type": "stream",
     "text": [
      "Saving model...\n",
      "Train Loss: 1.0680 | Train Acc: 0.76 | Best Eval Acc: 0.91\n",
      "Epoch 183/200\n"
     ]
    },
    {
     "name": "stderr",
     "output_type": "stream",
     "text": [
      "Training: 100%|██████████| 98/98 [01:58<00:00,  1.21s/it]\n",
      "Evaluating: 100%|██████████| 20/20 [00:08<00:00,  2.27it/s]\n"
     ]
    },
    {
     "name": "stdout",
     "output_type": "stream",
     "text": [
      "Train Loss: 1.0889 | Train Acc: 0.77 | Best Eval Acc: 0.91\n",
      "Epoch 184/200\n"
     ]
    },
    {
     "name": "stderr",
     "output_type": "stream",
     "text": [
      "Training: 100%|██████████| 98/98 [01:58<00:00,  1.21s/it]\n",
      "Evaluating: 100%|██████████| 20/20 [00:08<00:00,  2.28it/s]\n"
     ]
    },
    {
     "name": "stdout",
     "output_type": "stream",
     "text": [
      "Train Loss: 1.0072 | Train Acc: 0.81 | Best Eval Acc: 0.91\n",
      "Epoch 185/200\n"
     ]
    },
    {
     "name": "stderr",
     "output_type": "stream",
     "text": [
      "Training: 100%|██████████| 98/98 [01:58<00:00,  1.21s/it]\n",
      "Evaluating: 100%|██████████| 20/20 [00:08<00:00,  2.28it/s]\n"
     ]
    },
    {
     "name": "stdout",
     "output_type": "stream",
     "text": [
      "Saving model...\n",
      "Train Loss: 0.9975 | Train Acc: 0.81 | Best Eval Acc: 0.91\n",
      "Epoch 186/200\n"
     ]
    },
    {
     "name": "stderr",
     "output_type": "stream",
     "text": [
      "Training: 100%|██████████| 98/98 [01:58<00:00,  1.21s/it]\n",
      "Evaluating: 100%|██████████| 20/20 [00:08<00:00,  2.28it/s]\n"
     ]
    },
    {
     "name": "stdout",
     "output_type": "stream",
     "text": [
      "Train Loss: 0.9990 | Train Acc: 0.80 | Best Eval Acc: 0.91\n",
      "Epoch 187/200\n"
     ]
    },
    {
     "name": "stderr",
     "output_type": "stream",
     "text": [
      "Training: 100%|██████████| 98/98 [01:58<00:00,  1.21s/it]\n",
      "Evaluating: 100%|██████████| 20/20 [00:08<00:00,  2.26it/s]\n"
     ]
    },
    {
     "name": "stdout",
     "output_type": "stream",
     "text": [
      "Train Loss: 1.0726 | Train Acc: 0.79 | Best Eval Acc: 0.91\n",
      "Epoch 188/200\n"
     ]
    },
    {
     "name": "stderr",
     "output_type": "stream",
     "text": [
      "Training: 100%|██████████| 98/98 [01:58<00:00,  1.21s/it]\n",
      "Evaluating: 100%|██████████| 20/20 [00:08<00:00,  2.28it/s]\n"
     ]
    },
    {
     "name": "stdout",
     "output_type": "stream",
     "text": [
      "Train Loss: 1.0428 | Train Acc: 0.80 | Best Eval Acc: 0.91\n",
      "Epoch 189/200\n"
     ]
    },
    {
     "name": "stderr",
     "output_type": "stream",
     "text": [
      "Training: 100%|██████████| 98/98 [01:58<00:00,  1.21s/it]\n",
      "Evaluating: 100%|██████████| 20/20 [00:08<00:00,  2.32it/s]\n"
     ]
    },
    {
     "name": "stdout",
     "output_type": "stream",
     "text": [
      "Train Loss: 1.0417 | Train Acc: 0.80 | Best Eval Acc: 0.91\n",
      "Epoch 190/200\n"
     ]
    },
    {
     "name": "stderr",
     "output_type": "stream",
     "text": [
      "Training: 100%|██████████| 98/98 [01:58<00:00,  1.21s/it]\n",
      "Evaluating: 100%|██████████| 20/20 [00:08<00:00,  2.27it/s]\n"
     ]
    },
    {
     "name": "stdout",
     "output_type": "stream",
     "text": [
      "Train Loss: 1.0770 | Train Acc: 0.80 | Best Eval Acc: 0.91\n",
      "Epoch 191/200\n"
     ]
    },
    {
     "name": "stderr",
     "output_type": "stream",
     "text": [
      "Training: 100%|██████████| 98/98 [01:58<00:00,  1.21s/it]\n",
      "Evaluating: 100%|██████████| 20/20 [00:08<00:00,  2.31it/s]\n"
     ]
    },
    {
     "name": "stdout",
     "output_type": "stream",
     "text": [
      "Train Loss: 0.9728 | Train Acc: 0.83 | Best Eval Acc: 0.91\n",
      "Epoch 192/200\n"
     ]
    },
    {
     "name": "stderr",
     "output_type": "stream",
     "text": [
      "Training: 100%|██████████| 98/98 [01:58<00:00,  1.21s/it]\n",
      "Evaluating: 100%|██████████| 20/20 [00:08<00:00,  2.25it/s]\n"
     ]
    },
    {
     "name": "stdout",
     "output_type": "stream",
     "text": [
      "Train Loss: 1.0662 | Train Acc: 0.80 | Best Eval Acc: 0.91\n",
      "Epoch 193/200\n"
     ]
    },
    {
     "name": "stderr",
     "output_type": "stream",
     "text": [
      "Training: 100%|██████████| 98/98 [01:58<00:00,  1.21s/it]\n",
      "Evaluating: 100%|██████████| 20/20 [00:08<00:00,  2.29it/s]\n"
     ]
    },
    {
     "name": "stdout",
     "output_type": "stream",
     "text": [
      "Train Loss: 1.0271 | Train Acc: 0.80 | Best Eval Acc: 0.91\n",
      "Epoch 194/200\n"
     ]
    },
    {
     "name": "stderr",
     "output_type": "stream",
     "text": [
      "Training: 100%|██████████| 98/98 [01:58<00:00,  1.21s/it]\n",
      "Evaluating: 100%|██████████| 20/20 [00:08<00:00,  2.30it/s]\n"
     ]
    },
    {
     "name": "stdout",
     "output_type": "stream",
     "text": [
      "Train Loss: 1.0470 | Train Acc: 0.80 | Best Eval Acc: 0.91\n",
      "Epoch 195/200\n"
     ]
    },
    {
     "name": "stderr",
     "output_type": "stream",
     "text": [
      "Training: 100%|██████████| 98/98 [01:58<00:00,  1.21s/it]\n",
      "Evaluating: 100%|██████████| 20/20 [00:08<00:00,  2.29it/s]\n"
     ]
    },
    {
     "name": "stdout",
     "output_type": "stream",
     "text": [
      "Train Loss: 1.0859 | Train Acc: 0.79 | Best Eval Acc: 0.91\n",
      "Epoch 196/200\n"
     ]
    },
    {
     "name": "stderr",
     "output_type": "stream",
     "text": [
      "Training: 100%|██████████| 98/98 [01:58<00:00,  1.21s/it]\n",
      "Evaluating: 100%|██████████| 20/20 [00:08<00:00,  2.29it/s]\n"
     ]
    },
    {
     "name": "stdout",
     "output_type": "stream",
     "text": [
      "Train Loss: 1.0183 | Train Acc: 0.79 | Best Eval Acc: 0.91\n",
      "Epoch 197/200\n"
     ]
    },
    {
     "name": "stderr",
     "output_type": "stream",
     "text": [
      "Training: 100%|██████████| 98/98 [01:58<00:00,  1.21s/it]\n",
      "Evaluating: 100%|██████████| 20/20 [00:08<00:00,  2.25it/s]\n"
     ]
    },
    {
     "name": "stdout",
     "output_type": "stream",
     "text": [
      "Train Loss: 1.0615 | Train Acc: 0.79 | Best Eval Acc: 0.91\n",
      "Epoch 198/200\n"
     ]
    },
    {
     "name": "stderr",
     "output_type": "stream",
     "text": [
      "Training: 100%|██████████| 98/98 [01:58<00:00,  1.21s/it]\n",
      "Evaluating: 100%|██████████| 20/20 [00:08<00:00,  2.31it/s]\n"
     ]
    },
    {
     "name": "stdout",
     "output_type": "stream",
     "text": [
      "Train Loss: 1.0025 | Train Acc: 0.80 | Best Eval Acc: 0.91\n",
      "Epoch 199/200\n"
     ]
    },
    {
     "name": "stderr",
     "output_type": "stream",
     "text": [
      "Training: 100%|██████████| 98/98 [01:58<00:00,  1.21s/it]\n",
      "Evaluating: 100%|██████████| 20/20 [00:08<00:00,  2.30it/s]\n"
     ]
    },
    {
     "name": "stdout",
     "output_type": "stream",
     "text": [
      "Train Loss: 1.0427 | Train Acc: 0.80 | Best Eval Acc: 0.91\n",
      "Plot saved to /kaggle/working/checkpoint_04_10_19_23_SPT\n",
      "Best Acc: 0.9093\n"
     ]
    },
    {
     "data": {
      "image/png": "[encoded data removed]",
      "text/plain": [
       "<Figure size 1400x500 with 2 Axes>"
      ]
     },
     "metadata": {},
     "output_type": "display_data"
    }
   ],
   "source": [
    "model = ViT(\n",
    "image_size=32,\n",
    "num_classes=10,\n",
    "patch_size=4,\n",
    "feature_dim=768,\n",
    "mlp_dim=768*2,\n",
    "depth=12,\n",
    "heads=4,\n",
    "dropout=0.3,\n",
    "emb_dropout=0.3,\n",
    ")\n",
    "\n",
    "optimizer = AdamW(\n",
    "    model.parameters(),\n",
    "    lr=6e-4,\n",
    "    betas=(0.9, 0.999),\n",
    "    eps=1e-8,\n",
    "    weight_decay=0.3\n",
    ")\n",
    "\n",
    "loss_fn = nn.CrossEntropyLoss()\n",
    "\n",
    "num_epochs = 200\n",
    "warmup_epochs = 30\n",
    "\n",
    "# Linear warmup scheduler\n",
    "warmup_scheduler = LinearLR(\n",
    "    optimizer,\n",
    "    start_factor=0.01,\n",
    "    end_factor=1.0,\n",
    "    total_iters=warmup_epochs\n",
    ")\n",
    "\n",
    "# Cosine annealing scheduler\n",
    "cosine_scheduler = CosineAnnealingLR(\n",
    "    optimizer,\n",
    "    T_max=num_epochs - warmup_epochs,\n",
    "    eta_min=1e-6\n",
    ")\n",
    "\n",
    "scheduler = SequentialLR(\n",
    "    optimizer,\n",
    "    schedulers=[warmup_scheduler, cosine_scheduler],\n",
    "    milestones=[warmup_epochs]\n",
    ")\n",
    "\n",
    "logger = SimpleLogger()\n",
    "\n",
    "# Instantiate the Trainer\n",
    "save_name = f\"checkpoint_{get_timestamp()}_SPT\"\n",
    "print(f'Saving to {save_name}')\n",
    "trainer = Trainer(\n",
    "    model=model,\n",
    "    train_loader=train_loader,\n",
    "    test_loader=test_loader,\n",
    "    optimizer=optimizer,\n",
    "    loss_fn=loss_fn,\n",
    "    scheduler=scheduler,\n",
    "    logger=logger,\n",
    "    ckpt_path=os.path.join(cwd,save_name),\n",
    "    device=\"cuda\" if torch.cuda.is_available() else \"cpu\"\n",
    ")\n",
    "\n",
    "best_acc = trainer.train(num_epochs=num_epochs)\n",
    "\n",
    "print(f'Best Acc: {best_acc}')"
   ]
  },
  {
   "cell_type": "code",
   "execution_count": null,
   "id": "a483827e",
   "metadata": {
    "papermill": {
     "duration": 1.09669,
     "end_time": "2025-10-04T20:59:59.405750",
     "exception": false,
     "start_time": "2025-10-04T20:59:58.309060",
     "status": "completed"
    },
    "tags": []
   },
   "outputs": [],
   "source": []
  }
 ],
 "metadata": {
  "kaggle": {
   "accelerator": "gpu",
   "dataSources": [],
   "dockerImageVersionId": 31090,
   "isGpuEnabled": true,
   "isInternetEnabled": true,
   "language": "python",
   "sourceType": "notebook"
  },
  "kernelspec": {
   "display_name": "Python 3",
   "language": "python",
   "name": "python3"
  },
  "language_info": {
   "codemirror_mode": {
    "name": "ipython",
    "version": 3
   },
   "file_extension": ".py",
   "mimetype": "text/x-python",
   "name": "python",
   "nbconvert_exporter": "python",
   "pygments_lexer": "ipython3",
   "version": "3.11.13"
  },
  "papermill": {
   "default_parameters": {},
   "duration": 25586.691747,
   "end_time": "2025-10-04T21:00:02.861048",
   "environment_variables": {},
   "exception": null,
   "input_path": "__notebook__.ipynb",
   "output_path": "__notebook__.ipynb",
   "parameters": {},
   "start_time": "2025-10-04T13:53:36.169301",
   "version": "2.6.0"
  }
 },
 "nbformat": 4,
 "nbformat_minor": 5
}
